{
  "nbformat": 4,
  "nbformat_minor": 0,
  "metadata": {
    "kernelspec": {
      "display_name": "Python 3",
      "language": "python",
      "name": "python3"
    },
    "language_info": {
      "codemirror_mode": {
        "name": "ipython",
        "version": 3
      },
      "file_extension": ".py",
      "mimetype": "text/x-python",
      "name": "python",
      "nbconvert_exporter": "python",
      "pygments_lexer": "ipython3",
      "version": "3.7.3"
    },
    "colab": {
      "name": "Exercise - More Basics.ipynb",
      "provenance": [],
      "collapsed_sections": []
    }
  },
  "cells": [
    {
      "cell_type": "markdown",
      "metadata": {
        "id": "YOAxFcgM1SyK",
        "colab_type": "text"
      },
      "source": [
        "<h1>More Basics of Using Git</h1>\n",
        "\n",
        "Create a directory named `countries_repo` and make sure that it is initialized as a git repository."
      ]
    },
    {
      "cell_type": "code",
      "metadata": {
        "id": "uqMYs-X-1SyN",
        "colab_type": "code",
        "colab": {}
      },
      "source": [
        ""
      ],
      "execution_count": 0,
      "outputs": []
    },
    {
      "cell_type": "markdown",
      "metadata": {
        "id": "2NAusz641SyS",
        "colab_type": "text"
      },
      "source": [
        "If you have correctly initialized the repo and created the directory, the following should change the present working directory to `countries_repo`"
      ]
    },
    {
      "cell_type": "code",
      "metadata": {
        "id": "LNzcrA4v1SyT",
        "colab_type": "code",
        "colab": {}
      },
      "source": [
        "%cd countries_repo"
      ],
      "execution_count": 0,
      "outputs": []
    },
    {
      "cell_type": "markdown",
      "metadata": {
        "id": "_AY7DRk612Fu",
        "colab_type": "text"
      },
      "source": [
        "Feel free to customize the following to use your own name and email."
      ]
    },
    {
      "cell_type": "code",
      "metadata": {
        "id": "swKM4js_1ydT",
        "colab_type": "code",
        "colab": {}
      },
      "source": [
        "%%bash\n",
        "git config --global user.email \"peter@initech.com\"\n",
        "git config --global user.name \"Peter Gibbons\""
      ],
      "execution_count": 0,
      "outputs": []
    },
    {
      "cell_type": "markdown",
      "metadata": {
        "id": "yHzTYGQt1SyV",
        "colab_type": "text"
      },
      "source": [
        "The original approach for storing names of cities in a single file no longer makes sense because the file can grow too large. \n",
        "\n",
        "Create directories for `us` and a few other  countries (e.g. `uk`, `es`) and write a sample list of cities for `us` and one of the other countries to a corresponding `cities` file."
      ]
    },
    {
      "cell_type": "code",
      "metadata": {
        "id": "RKyVc_FG1SyW",
        "colab_type": "code",
        "colab": {}
      },
      "source": [
        ""
      ],
      "execution_count": 0,
      "outputs": []
    },
    {
      "cell_type": "markdown",
      "metadata": {
        "id": "R1-8dhp21SyY",
        "colab_type": "text"
      },
      "source": [
        "Now there are several untracked files in your working tree. Check which files are untracked."
      ]
    },
    {
      "cell_type": "code",
      "metadata": {
        "id": "j_jvXSEE1SyZ",
        "colab_type": "code",
        "colab": {}
      },
      "source": [
        ""
      ],
      "execution_count": 0,
      "outputs": []
    },
    {
      "cell_type": "markdown",
      "metadata": {
        "id": "i4p4aq2h1Syb",
        "colab_type": "text"
      },
      "source": [
        "To start, stage the directories that contain `cities` file. Note that staging a directory automatically stages the files in the directory and in its subdirectories. "
      ]
    },
    {
      "cell_type": "code",
      "metadata": {
        "id": "RdxPsa9X1Syc",
        "colab_type": "code",
        "colab": {}
      },
      "source": [
        ""
      ],
      "execution_count": 0,
      "outputs": []
    },
    {
      "cell_type": "markdown",
      "metadata": {
        "id": "4H5wLekH1Syg",
        "colab_type": "text"
      },
      "source": [
        "\n",
        "The directories that are currently empty should be staged as placeholders for future development. \n",
        "\n",
        "**HINT:** Use `.gitignore` to help you."
      ]
    },
    {
      "cell_type": "code",
      "metadata": {
        "id": "du9xW-OJ1Syh",
        "colab_type": "code",
        "colab": {}
      },
      "source": [
        ""
      ],
      "execution_count": 0,
      "outputs": []
    },
    {
      "cell_type": "markdown",
      "metadata": {
        "id": "LDxHWCKG1Sym",
        "colab_type": "text"
      },
      "source": [
        "Once the `.gitignore` files have been correctly placed, stage both the empty and non-empty directories."
      ]
    },
    {
      "cell_type": "code",
      "metadata": {
        "id": "rebfh_5J1Sym",
        "colab_type": "code",
        "colab": {}
      },
      "source": [
        ""
      ],
      "execution_count": 0,
      "outputs": []
    },
    {
      "cell_type": "markdown",
      "metadata": {
        "id": "zvce5lx21Syo",
        "colab_type": "text"
      },
      "source": [
        "Confirm that the country directories and the corresponding files have been staged."
      ]
    },
    {
      "cell_type": "code",
      "metadata": {
        "id": "ptNkL-e_1Syp",
        "colab_type": "code",
        "colab": {}
      },
      "source": [
        ""
      ],
      "execution_count": 0,
      "outputs": []
    },
    {
      "cell_type": "markdown",
      "metadata": {
        "id": "TAimi1hX1Syx",
        "colab_type": "text"
      },
      "source": [
        "At this point, you should have the entire directory structure staged for a commit. The output of your `git status -s` should resemble the following:\n",
        "\n",
        "<pre>\n",
        "A  es/cities\n",
        "A  fr/.gitignore\n",
        "A  uk/.gitignore\n",
        "A  us/cities\n",
        "</pre>\n",
        "\n",
        "Fix up any issues you may have with staging and commit the working tree.\n",
        "\n"
      ]
    },
    {
      "cell_type": "code",
      "metadata": {
        "id": "Jb5t7Hsr1Syx",
        "colab_type": "code",
        "colab": {}
      },
      "source": [
        ""
      ],
      "execution_count": 0,
      "outputs": []
    },
    {
      "cell_type": "markdown",
      "metadata": {
        "id": "fxtCfOwy1Sy0",
        "colab_type": "text"
      },
      "source": [
        "Great! Since you did such an examplary job, you are now tasked to ensure that the `us/cities` file doesn't grow too large. \n",
        "\n",
        "Output the content of the `us/cities` to examine the cities in the United States."
      ]
    },
    {
      "cell_type": "code",
      "metadata": {
        "id": "T9DOXx4W1Sy1",
        "colab_type": "code",
        "colab": {}
      },
      "source": [
        ""
      ],
      "execution_count": 0,
      "outputs": []
    },
    {
      "cell_type": "markdown",
      "metadata": {
        "id": "6veHJ8141Sy3",
        "colab_type": "text"
      },
      "source": [
        "For each line in the output (i.e. a city name), create a separate directory named after the 2 letter code for the state (e.g. `de`). A single `mkdir` command can take multiple arguments and create multiple directories in one step.\n",
        "\n"
      ]
    },
    {
      "cell_type": "code",
      "metadata": {
        "id": "p7YrYZfA1Sy3",
        "colab_type": "code",
        "colab": {}
      },
      "source": [
        ""
      ],
      "execution_count": 0,
      "outputs": []
    },
    {
      "cell_type": "markdown",
      "metadata": {
        "id": "y6O_rP79437f",
        "colab_type": "text"
      },
      "source": [
        "Next write the city names to the `cities` file."
      ]
    },
    {
      "cell_type": "code",
      "metadata": {
        "id": "2VGpvfet1Sy6",
        "colab_type": "code",
        "colab": {}
      },
      "source": [
        ""
      ],
      "execution_count": 0,
      "outputs": []
    },
    {
      "cell_type": "markdown",
      "metadata": {
        "id": "PZDmjSCI1Sy9",
        "colab_type": "text"
      },
      "source": [
        "Git `status` should confirm that the three new directories in the working tree are in the untracked state."
      ]
    },
    {
      "cell_type": "code",
      "metadata": {
        "id": "6JqWM-pN1Sy-",
        "colab_type": "code",
        "colab": {}
      },
      "source": [
        ""
      ],
      "execution_count": 0,
      "outputs": []
    },
    {
      "cell_type": "markdown",
      "metadata": {
        "id": "Q1lzireL1SzB",
        "colab_type": "text"
      },
      "source": [
        "Texas does not have a placeholder directory yet. Create one with the `tx` code and make sure it is staged for a commit along with the other files."
      ]
    },
    {
      "cell_type": "code",
      "metadata": {
        "id": "FCgS0CsT1SzC",
        "colab_type": "code",
        "colab": {}
      },
      "source": [
        ""
      ],
      "execution_count": 0,
      "outputs": []
    },
    {
      "cell_type": "code",
      "metadata": {
        "id": "oxA0JP8e1SzF",
        "colab_type": "code",
        "colab": {}
      },
      "source": [
        ""
      ],
      "execution_count": 0,
      "outputs": []
    },
    {
      "cell_type": "markdown",
      "metadata": {
        "id": "TlD8FJO05FG0",
        "colab_type": "text"
      },
      "source": [
        "Stage all the cities across their respective directories for US states and confirm that the staging completed correctly."
      ]
    },
    {
      "cell_type": "code",
      "metadata": {
        "id": "XbdFLGMp1SzJ",
        "colab_type": "code",
        "colab": {}
      },
      "source": [
        ""
      ],
      "execution_count": 0,
      "outputs": []
    },
    {
      "cell_type": "code",
      "metadata": {
        "id": "uFv9Rpax1SzM",
        "colab_type": "code",
        "colab": {}
      },
      "source": [
        ""
      ],
      "execution_count": 0,
      "outputs": []
    },
    {
      "cell_type": "markdown",
      "metadata": {
        "id": "JgeNewak1SzN",
        "colab_type": "text"
      },
      "source": [
        "Before committing, you should also remove the original `us/cities` file. It is enough to remove just the file because Git will not commit an empty directory."
      ]
    },
    {
      "cell_type": "code",
      "metadata": {
        "id": "Zr9dCPML1SzO",
        "colab_type": "code",
        "colab": {}
      },
      "source": [
        ""
      ],
      "execution_count": 0,
      "outputs": []
    },
    {
      "cell_type": "markdown",
      "metadata": {
        "id": "jG0mRoYh1SzQ",
        "colab_type": "text"
      },
      "source": [
        "Now your status should look similar to the following:\n",
        "\n",
        "<pre>\n",
        "A  ca/cities\n",
        "A  fl/cities\n",
        "A  ny/cities\n",
        "A  tx/.gitignore\n",
        "D  us/cities\n",
        "</pre>"
      ]
    },
    {
      "cell_type": "code",
      "metadata": {
        "id": "mT_L1p9c1SzR",
        "colab_type": "code",
        "colab": {}
      },
      "source": [
        ""
      ],
      "execution_count": 0,
      "outputs": []
    },
    {
      "cell_type": "markdown",
      "metadata": {
        "id": "EJrJs4lO2Rfq",
        "colab_type": "text"
      },
      "source": [
        "If the status matches, go ahead and commit."
      ]
    },
    {
      "cell_type": "code",
      "metadata": {
        "id": "K-gE_Rs-1SzT",
        "colab_type": "code",
        "colab": {}
      },
      "source": [
        ""
      ],
      "execution_count": 0,
      "outputs": []
    },
    {
      "cell_type": "markdown",
      "metadata": {
        "id": "8YnSCTni2bun",
        "colab_type": "text"
      },
      "source": [
        "Check the status again just to convince yourself that the working tree is now clean."
      ]
    },
    {
      "cell_type": "code",
      "metadata": {
        "id": "NEUr9fFF1SzV",
        "colab_type": "code",
        "colab": {}
      },
      "source": [
        ""
      ],
      "execution_count": 0,
      "outputs": []
    },
    {
      "cell_type": "markdown",
      "metadata": {
        "id": "QVJBIpSj2djF",
        "colab_type": "text"
      },
      "source": [
        "Copyright 2019 CounterFactual.AI LLC. Licensed under the Apache License, Version 2.0 (the \"License\"); you may not use this file except in compliance with the License. You may obtain a copy of the License at http://www.apache.org/licenses/LICENSE-2.0 Unless required by applicable law or agreed to in writing, software distributed under the License is distributed on an \"AS IS\" BASIS, WITHOUT WARRANTIES OR CONDITIONS OF ANY KIND, either express or implied. See the License for the specific language governing permissions and limitations under the License"
      ]
    }
  ]
}