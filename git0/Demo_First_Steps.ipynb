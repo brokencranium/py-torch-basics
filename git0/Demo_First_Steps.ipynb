{
  "nbformat": 4,
  "nbformat_minor": 0,
  "metadata": {
    "kernelspec": {
      "display_name": "Python 3",
      "language": "python",
      "name": "python3"
    },
    "language_info": {
      "codemirror_mode": {
        "name": "ipython",
        "version": 3
      },
      "file_extension": ".py",
      "mimetype": "text/x-python",
      "name": "python",
      "nbconvert_exporter": "python",
      "pygments_lexer": "ipython3",
      "version": "3.7.3"
    },
    "colab": {
      "name": "Demo - First Steps.ipynb",
      "provenance": [],
      "collapsed_sections": []
    }
  },
  "cells": [
    {
      "cell_type": "markdown",
      "metadata": {
        "id": "jRAOma1Hktp-",
        "colab_type": "text"
      },
      "source": [
        "<h1>First Steps with Git</h1>\n",
        "\n",
        "When starting with a brand new git environment, you should begin by setting up your email and name. These are used by Git when storing metadata about the authors of commits to the repository."
      ]
    },
    {
      "cell_type": "code",
      "metadata": {
        "id": "m5AZV6kmktqA",
        "colab_type": "code",
        "colab": {}
      },
      "source": [
        "%%bash\n",
        "git config --global user.email \"peter@initech.com\"\n",
        "git config --global user.name \"Peter Gibbons\"\n",
        "git config --list"
      ],
      "execution_count": 0,
      "outputs": []
    },
    {
      "cell_type": "markdown",
      "metadata": {
        "id": "MNT--T-iktqE",
        "colab_type": "text"
      },
      "source": [
        "There are two basic options for initializing a new git repository. You can initialize an existing directory or let git create a new directory during initialization. "
      ]
    },
    {
      "cell_type": "code",
      "metadata": {
        "id": "B3hp8VLwktqG",
        "colab_type": "code",
        "colab": {}
      },
      "source": [
        "!git init first_steps_repo"
      ],
      "execution_count": 0,
      "outputs": []
    },
    {
      "cell_type": "markdown",
      "metadata": {
        "id": "smljyMKektqK",
        "colab_type": "text"
      },
      "source": [
        "Since `cd` in the following cell is not marked as a shell (bash) command, it is executed as Python code. This ensures that the entire notebook session changes the current direction to the `first_steps_repo` directory."
      ]
    },
    {
      "cell_type": "code",
      "metadata": {
        "id": "QeN9FoscktqL",
        "colab_type": "code",
        "colab": {}
      },
      "source": [
        "cd first_steps_repo"
      ],
      "execution_count": 0,
      "outputs": []
    },
    {
      "cell_type": "markdown",
      "metadata": {
        "id": "8yK7DhpvktqN",
        "colab_type": "text"
      },
      "source": [
        "This repo will store the names of the common git commands that you need to remember while working with git. Let's go ahead and write them to a `commands` file."
      ]
    },
    {
      "cell_type": "code",
      "metadata": {
        "id": "izKXMdAnktqO",
        "colab_type": "code",
        "colab": {}
      },
      "source": [
        "%%writefile commands\n",
        "init\n",
        "add\n",
        "commit\n",
        "status"
      ],
      "execution_count": 0,
      "outputs": []
    },
    {
      "cell_type": "markdown",
      "metadata": {
        "id": "u-U_yZ9YktqQ",
        "colab_type": "text"
      },
      "source": [
        "The file is ready. You can confirm that the contents of the file match what you expect."
      ]
    },
    {
      "cell_type": "code",
      "metadata": {
        "id": "PqmRNMKWktqR",
        "colab_type": "code",
        "colab": {}
      },
      "source": [
        "!cat commands"
      ],
      "execution_count": 0,
      "outputs": []
    },
    {
      "cell_type": "code",
      "metadata": {
        "id": "7dzgIrmCktqU",
        "colab_type": "code",
        "colab": {}
      },
      "source": [
        "!git status --short"
      ],
      "execution_count": 0,
      "outputs": []
    },
    {
      "cell_type": "markdown",
      "metadata": {
        "id": "7B8xS-qEktqW",
        "colab_type": "text"
      },
      "source": [
        "Git status correctly confirms that the working tree includes an untracked file. Since we are planning to add this file to the repo, let's go ahead and start tracking the file."
      ]
    },
    {
      "cell_type": "code",
      "metadata": {
        "id": "sS-yFjOQktqY",
        "colab_type": "code",
        "colab": {}
      },
      "source": [
        "!git add commands"
      ],
      "execution_count": 0,
      "outputs": []
    },
    {
      "cell_type": "markdown",
      "metadata": {
        "id": "M3E23kikktqb",
        "colab_type": "text"
      },
      "source": [
        "The \"quiet\" nature of Linux shell commands also applies to git. If a command does not return an output, it typically means that it succeeded. Let's confirm that. In case of `git status`, the `-s` is a short cut for `--short`."
      ]
    },
    {
      "cell_type": "code",
      "metadata": {
        "id": "OABzgCoXktqb",
        "colab_type": "code",
        "colab": {}
      },
      "source": [
        "!git status -s"
      ],
      "execution_count": 0,
      "outputs": []
    },
    {
      "cell_type": "markdown",
      "metadata": {
        "id": "p9INZyc-ktqf",
        "colab_type": "text"
      },
      "source": [
        "Great. The file was added, which means that it is ready for a commit. Since this is the first commit to the repo, we will call it the \"initial commit\"."
      ]
    },
    {
      "cell_type": "code",
      "metadata": {
        "id": "ba2y2jDKktqg",
        "colab_type": "code",
        "colab": {}
      },
      "source": [
        "!git commit -m 'initial commit'"
      ],
      "execution_count": 0,
      "outputs": []
    },
    {
      "cell_type": "markdown",
      "metadata": {
        "id": "xNDtX4xVktqj",
        "colab_type": "text"
      },
      "source": [
        "Notice that once the commit succeeds and all the files in the working tree have been committed, the working tree is clean and `git status` no longer returns any updates."
      ]
    },
    {
      "cell_type": "code",
      "metadata": {
        "id": "6nnaSxo-ktql",
        "colab_type": "code",
        "colab": {}
      },
      "source": [
        "!git status -s"
      ],
      "execution_count": 0,
      "outputs": []
    },
    {
      "cell_type": "markdown",
      "metadata": {
        "id": "jLymXYopktqo",
        "colab_type": "text"
      },
      "source": [
        "Oh no! The files with the git commands is missing the `git log` command. Let's quickly fix that!"
      ]
    },
    {
      "cell_type": "code",
      "metadata": {
        "id": "iDjt4aCQktqp",
        "colab_type": "code",
        "colab": {}
      },
      "source": [
        "!echo \"log\" >> commands"
      ],
      "execution_count": 0,
      "outputs": []
    },
    {
      "cell_type": "code",
      "metadata": {
        "id": "QQC4Vu_Sktqr",
        "colab_type": "code",
        "colab": {}
      },
      "source": [
        "!cat commands"
      ],
      "execution_count": 0,
      "outputs": []
    },
    {
      "cell_type": "markdown",
      "metadata": {
        "id": "4h4hCu0iktqt",
        "colab_type": "text"
      },
      "source": [
        "Great! Appending \"log\" to the file fixed the issue. Let's go ahead and check whether changing the file updated the status of the git working tree."
      ]
    },
    {
      "cell_type": "code",
      "metadata": {
        "id": "yg_FZkm_ktqu",
        "colab_type": "code",
        "colab": {}
      },
      "source": [
        "!git status -s"
      ],
      "execution_count": 0,
      "outputs": []
    },
    {
      "cell_type": "markdown",
      "metadata": {
        "id": "P3M8NAaDktqx",
        "colab_type": "text"
      },
      "source": [
        "The file is now listed as modified, meaning that it is changed compared to the commit of the file. The `diff` command provides the details of the changes."
      ]
    },
    {
      "cell_type": "code",
      "metadata": {
        "scrolled": false,
        "id": "EVTcHObUktqx",
        "colab_type": "code",
        "colab": {}
      },
      "source": [
        "!git diff"
      ],
      "execution_count": 0,
      "outputs": []
    },
    {
      "cell_type": "markdown",
      "metadata": {
        "id": "42Nojeapktqz",
        "colab_type": "text"
      },
      "source": [
        "You already know that using `git add` followed by `git commit` will track, stage, and commit files to your repo. Once a file is tracked, it is also possible to stage it directly in the commit command using `-a` argument."
      ]
    },
    {
      "cell_type": "code",
      "metadata": {
        "id": "mdyDhxMcktq0",
        "colab_type": "code",
        "colab": {}
      },
      "source": [
        "!git commit -am 'fixed the issue with a missing log command'"
      ],
      "execution_count": 0,
      "outputs": []
    },
    {
      "cell_type": "markdown",
      "metadata": {
        "id": "6gpntGX9ktq4",
        "colab_type": "text"
      },
      "source": [
        "At this point you know that there are no further pending changes to commit. You can also get a reminder of the history of your commits. In the future notebooks, you will learn more about using `git log` and the meaning of the `HEAD` and `master` references mentioned in the log."
      ]
    },
    {
      "cell_type": "code",
      "metadata": {
        "id": "aL0_bB7xktq5",
        "colab_type": "code",
        "colab": {}
      },
      "source": [
        "!git log --oneline"
      ],
      "execution_count": 0,
      "outputs": []
    },
    {
      "cell_type": "markdown",
      "metadata": {
        "id": "LezNMJLcktq9",
        "colab_type": "text"
      },
      "source": [
        "Notice that the first 7 characters of each line of the log output are based on the first 7 characters of the hash values for the corresponding commits. You can find out the differences between any commits using `git diff <commit1> <commit2>`"
      ]
    },
    {
      "cell_type": "code",
      "metadata": {
        "id": "tzhArI-Tktq-",
        "colab_type": "code",
        "colab": {}
      },
      "source": [
        "!git diff"
      ],
      "execution_count": 0,
      "outputs": []
    },
    {
      "cell_type": "markdown",
      "metadata": {
        "id": "yXe_IEp6o_fo",
        "colab_type": "text"
      },
      "source": [
        "Copyright 2019 CounterFactual.AI LLC. Licensed under the Apache License, Version 2.0 (the \"License\"); you may not use this file except in compliance with the License. You may obtain a copy of the License at http://www.apache.org/licenses/LICENSE-2.0 Unless required by applicable law or agreed to in writing, software distributed under the License is distributed on an \"AS IS\" BASIS, WITHOUT WARRANTIES OR CONDITIONS OF ANY KIND, either express or implied. See the License for the specific language governing permissions and limitations under the License"
      ]
    }
  ]
}