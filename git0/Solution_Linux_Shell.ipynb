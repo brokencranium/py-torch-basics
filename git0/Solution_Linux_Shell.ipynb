{
  "nbformat": 4,
  "nbformat_minor": 0,
  "metadata": {
    "kernelspec": {
      "display_name": "Python 3",
      "language": "python",
      "name": "python3"
    },
    "language_info": {
      "codemirror_mode": {
        "name": "ipython",
        "version": 3
      },
      "file_extension": ".py",
      "mimetype": "text/x-python",
      "name": "python",
      "nbconvert_exporter": "python",
      "pygments_lexer": "ipython3",
      "version": "3.7.3"
    },
    "colab": {
      "name": "Solution - Linux Shell.ipynb",
      "provenance": [],
      "collapsed_sections": []
    }
  },
  "cells": [
    {
      "cell_type": "markdown",
      "metadata": {
        "id": "x5CYPuXphke6",
        "colab_type": "text"
      },
      "source": [
        "<h1>Linux Shell</h1>\n",
        "\n",
        "In this notebook you will practice using common Linux shell commands that are useful when working with Git.\n",
        "\n",
        "To start, create a directory named `shell_dir` in which you will practice various Linux shell commands. \n",
        "\n",
        "**NOTE:** Don't forget to use the `!` or the `%%bash` magics."
      ]
    },
    {
      "cell_type": "code",
      "metadata": {
        "id": "W3xkre9Ehke-",
        "colab_type": "code",
        "colab": {}
      },
      "source": [
        "!mkdir shell_dir"
      ],
      "execution_count": 0,
      "outputs": []
    },
    {
      "cell_type": "markdown",
      "metadata": {
        "id": "-zLbHZwli0R9",
        "colab_type": "text"
      },
      "source": [
        ""
      ]
    },
    {
      "cell_type": "markdown",
      "metadata": {
        "id": "Th2ywnwyhkfD",
        "colab_type": "text"
      },
      "source": [
        "If your command to create a directory completed successfully, you should be able to confirm that `shell_dir` exists.\n",
        "\n",
        "Try listing the directory contents using detailed, human readable format, and look for `shell_dir`\n",
        "\n"
      ]
    },
    {
      "cell_type": "code",
      "metadata": {
        "id": "9GaF7F37hkfE",
        "colab_type": "code",
        "colab": {}
      },
      "source": [
        "!ls -lh"
      ],
      "execution_count": 0,
      "outputs": []
    },
    {
      "cell_type": "markdown",
      "metadata": {
        "id": "e3VovwBEhkfH",
        "colab_type": "text"
      },
      "source": [
        "So far you did not change the present working directory which contains the `shell_dir`. In the next cell, run a command to find out the path to the parent directory of `shell_dir`, or in other words the current directory."
      ]
    },
    {
      "cell_type": "code",
      "metadata": {
        "id": "4XKFcaDThkfI",
        "colab_type": "code",
        "colab": {}
      },
      "source": [
        "!pwd"
      ],
      "execution_count": 0,
      "outputs": []
    },
    {
      "cell_type": "markdown",
      "metadata": {
        "id": "LhUiqa7UhkfK",
        "colab_type": "text"
      },
      "source": [
        "Make sure to pay attention to the type of the slash character used by Linux as a directory separator.  \n",
        "\n",
        "Next, you need to create multiple files in the `shell_dir` directory. Create two files, `cities` and `countries`, containing your favorite city and country names. Remember, that since your present working directory is a parent of `shell_dir`, you should use the right path to the `cities` and `countries` file, including `shell_dir` as a part of the path. You also need to make sure you are using a valid Linux directory separator when specifying the path."
      ]
    },
    {
      "cell_type": "markdown",
      "metadata": {
        "id": "2x5DhGShhkfL",
        "colab_type": "text"
      },
      "source": [
        "First, create the `countries` file using the `%%writefile` magic, ensuring that the file contains your favorite country names."
      ]
    },
    {
      "cell_type": "code",
      "metadata": {
        "id": "nb3gQYwchkfM",
        "colab_type": "code",
        "colab": {}
      },
      "source": [
        "%%writefile shell_dir/countries\n",
        "United States"
      ],
      "execution_count": 0,
      "outputs": []
    },
    {
      "cell_type": "markdown",
      "metadata": {
        "id": "xibhfp4whkfO",
        "colab_type": "text"
      },
      "source": [
        "Second, create a `cities` file using the `%%bash` magic and the shell command that creates an empty file."
      ]
    },
    {
      "cell_type": "code",
      "metadata": {
        "id": "WqtwVewEhkfP",
        "colab_type": "code",
        "colab": {}
      },
      "source": [
        "!touch shell_dir/cities"
      ],
      "execution_count": 0,
      "outputs": []
    },
    {
      "cell_type": "markdown",
      "metadata": {
        "id": "UKeb4dEAhkfS",
        "colab_type": "text"
      },
      "source": [
        "Confirm that files exist using `find`."
      ]
    },
    {
      "cell_type": "code",
      "metadata": {
        "id": "Ua5a2igahkfT",
        "colab_type": "code",
        "colab": {}
      },
      "source": [
        "!find shell_dir"
      ],
      "execution_count": 0,
      "outputs": []
    },
    {
      "cell_type": "markdown",
      "metadata": {
        "id": "h42I6VPjhkfW",
        "colab_type": "text"
      },
      "source": [
        "The files are in place, so that's great. You should check that `cities` is empty while `countries` is non-empty. The easiest way to check that is to get a detailed file listing and look for the file size in bytes."
      ]
    },
    {
      "cell_type": "code",
      "metadata": {
        "id": "-4h8y8GchkfX",
        "colab_type": "code",
        "colab": {}
      },
      "source": [
        "!ls -lh shell_dir"
      ],
      "execution_count": 0,
      "outputs": []
    },
    {
      "cell_type": "markdown",
      "metadata": {
        "id": "8MvV6jKrhkfa",
        "colab_type": "text"
      },
      "source": [
        "Since `countries` is non-empty, run the command to output the file's content."
      ]
    },
    {
      "cell_type": "code",
      "metadata": {
        "id": "eOoUfQ9Phkfa",
        "colab_type": "code",
        "colab": {}
      },
      "source": [
        "!cat shell_dir/countries"
      ],
      "execution_count": 0,
      "outputs": []
    },
    {
      "cell_type": "markdown",
      "metadata": {
        "id": "v1o8O-2Phkfd",
        "colab_type": "text"
      },
      "source": [
        "Next, use the `%%bash` magic and a shell command to write a list of your favorite cities to the `cities` file."
      ]
    },
    {
      "cell_type": "code",
      "metadata": {
        "id": "OZ8WDLoKhkfd",
        "colab_type": "code",
        "colab": {}
      },
      "source": [
        "%%bash\n",
        "echo \"New York\n",
        "Seattle\" > shell_dir/cities"
      ],
      "execution_count": 0,
      "outputs": []
    },
    {
      "cell_type": "markdown",
      "metadata": {
        "id": "B0q7p0yJhkfg",
        "colab_type": "text"
      },
      "source": [
        "Output the content of the `cities` file to confirm that it was saved as expected."
      ]
    },
    {
      "cell_type": "code",
      "metadata": {
        "id": "9EZtkpGkhkfg",
        "colab_type": "code",
        "colab": {}
      },
      "source": [
        "!cat shell_dir/cities"
      ],
      "execution_count": 0,
      "outputs": []
    },
    {
      "cell_type": "markdown",
      "metadata": {
        "id": "yyPGLUm9hkfi",
        "colab_type": "text"
      },
      "source": [
        "Suppose that `Prague` is now one of your favorite cities. Append it to the `cities` file without losing your original favorite cities."
      ]
    },
    {
      "cell_type": "code",
      "metadata": {
        "id": "M74IiLB-hkfj",
        "colab_type": "code",
        "colab": {}
      },
      "source": [
        "!echo \"Prague\" >> shell_dir/cities"
      ],
      "execution_count": 0,
      "outputs": []
    },
    {
      "cell_type": "markdown",
      "metadata": {
        "id": "uGQpW6rUhkfl",
        "colab_type": "text"
      },
      "source": [
        "Output the content of the `cities` file again to check that `Prague` is the last line of the file."
      ]
    },
    {
      "cell_type": "code",
      "metadata": {
        "id": "M5MeBXXxhkfm",
        "colab_type": "code",
        "colab": {}
      },
      "source": [
        "!cat shell_dir/cities"
      ],
      "execution_count": 0,
      "outputs": []
    },
    {
      "cell_type": "markdown",
      "metadata": {
        "id": "1_IB6b2GihKA",
        "colab_type": "text"
      },
      "source": [
        "Copyright 2019 CounterFactual.AI LLC. Licensed under the Apache License, Version 2.0 (the \"License\"); you may not use this file except in compliance with the License. You may obtain a copy of the License at http://www.apache.org/licenses/LICENSE-2.0 Unless required by applicable law or agreed to in writing, software distributed under the License is distributed on an \"AS IS\" BASIS, WITHOUT WARRANTIES OR CONDITIONS OF ANY KIND, either express or implied. See the License for the specific language governing permissions and limitations under the License"
      ]
    }
  ]
}