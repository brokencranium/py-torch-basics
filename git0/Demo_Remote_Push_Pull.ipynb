{
  "nbformat": 4,
  "nbformat_minor": 0,
  "metadata": {
    "kernelspec": {
      "display_name": "Python 3",
      "language": "python",
      "name": "python3"
    },
    "language_info": {
      "codemirror_mode": {
        "name": "ipython",
        "version": 3
      },
      "file_extension": ".py",
      "mimetype": "text/x-python",
      "name": "python",
      "nbconvert_exporter": "python",
      "pygments_lexer": "ipython3",
      "version": "3.7.3"
    },
    "colab": {
      "name": "Demo - Remote Push Pull.ipynb",
      "provenance": [],
      "collapsed_sections": []
    }
  },
  "cells": [
    {
      "cell_type": "markdown",
      "metadata": {
        "id": "9VkYA1jZJsx-",
        "colab_type": "text"
      },
      "source": [
        "<h1>Remote Push and Pull</h1>\n",
        "\n",
        "In this demonstration you will experiment with a simple remote repository. Unlike remote repositories that you have probably seen on Github, this remote will reside on the same hard drive as the local remotes. Since Git is a distributed version control system, any repository accessible to Git can act as a remote."
      ]
    },
    {
      "cell_type": "markdown",
      "metadata": {
        "id": "jFuwOArHJsyC",
        "colab_type": "text"
      },
      "source": [
        "Note that unlike the `init` commands you have previously used, this one uses the `--bare` argument to initialize an empty repository. An empty repo is just like a regular repo except that it does not have a working tree. It is still possible to create a working tree from this repo simply by checking out a branch.\n",
        "\n",
        "By convention bare repos are kept in a `<name>.git` directory. "
      ]
    },
    {
      "cell_type": "code",
      "metadata": {
        "id": "65ivPnHnJsyD",
        "colab_type": "code",
        "colab": {}
      },
      "source": [
        "!git init --bare shared_repo.git"
      ],
      "execution_count": 0,
      "outputs": []
    },
    {
      "cell_type": "markdown",
      "metadata": {
        "id": "njbTZ7WoJsyH",
        "colab_type": "text"
      },
      "source": [
        "Peter and Michael are going to be the developers using this repo to share their work."
      ]
    },
    {
      "cell_type": "code",
      "metadata": {
        "id": "UKA1ij5BJsyH",
        "colab_type": "code",
        "colab": {}
      },
      "source": [
        "!mkdir peter"
      ],
      "execution_count": 0,
      "outputs": []
    },
    {
      "cell_type": "code",
      "metadata": {
        "id": "S19orQCVJsyK",
        "colab_type": "code",
        "colab": {}
      },
      "source": [
        "%cd peter"
      ],
      "execution_count": 0,
      "outputs": []
    },
    {
      "cell_type": "code",
      "metadata": {
        "id": "wwTdUWW_JsyN",
        "colab_type": "code",
        "colab": {}
      },
      "source": [
        "%%bash\n",
        "git config --global user.email \"peter@initech.com\"\n",
        "git config --global user.name \"Peter Gibbons\"\n"
      ],
      "execution_count": 0,
      "outputs": []
    },
    {
      "cell_type": "markdown",
      "metadata": {
        "id": "ikX7RNmtJsyP",
        "colab_type": "text"
      },
      "source": [
        "You have probably seen the `clone` command when working with Github. Notice that here you are cloning from a local file system. Remember that Git maintains the entire source code repository in the `.git` directory. This means that `clone` effectively transfers the entire repository, including source code snapshots and logs, to the destination folder. \n",
        "\n",
        "Since Git compresses objects and other data maintained in the repository, the size of the repository is not outrageous by modern standards. Also, repository transfers over the network can be fast because Git has optimizations focusing on networking."
      ]
    },
    {
      "cell_type": "code",
      "metadata": {
        "id": "MdHWvVUjJsyQ",
        "colab_type": "code",
        "colab": {}
      },
      "source": [
        "!git clone ../shared_repo.git"
      ],
      "execution_count": 0,
      "outputs": []
    },
    {
      "cell_type": "code",
      "metadata": {
        "id": "k31q8bCFJsyT",
        "colab_type": "code",
        "colab": {}
      },
      "source": [
        "%cd shared_repo"
      ],
      "execution_count": 0,
      "outputs": []
    },
    {
      "cell_type": "markdown",
      "metadata": {
        "id": "PwAdC-WzJsyW",
        "colab_type": "text"
      },
      "source": [
        "To check if the repo has any remotes, use the `remote -v` command. Notice that by convention, the name `origin` is assigned to the remote that \"originated\" the repo. In this case, the remote is just another directory on the file system so the location is the absolute path to the directory."
      ]
    },
    {
      "cell_type": "code",
      "metadata": {
        "id": "KuPWBJNmJsyX",
        "colab_type": "code",
        "colab": {}
      },
      "source": [
        "!git remote -v"
      ],
      "execution_count": 0,
      "outputs": []
    },
    {
      "cell_type": "markdown",
      "metadata": {
        "id": "SRfrjT5xJsyZ",
        "colab_type": "text"
      },
      "source": [
        "Lets add Peter as the committer to the shared repo."
      ]
    },
    {
      "cell_type": "code",
      "metadata": {
        "id": "fcFNE2l7Jsya",
        "colab_type": "code",
        "colab": {}
      },
      "source": [
        "%%bash\n",
        "echo \"Committers: Peter Gibbons\" > README"
      ],
      "execution_count": 0,
      "outputs": []
    },
    {
      "cell_type": "markdown",
      "metadata": {
        "id": "0WCIZWAuJsyd",
        "colab_type": "text"
      },
      "source": [
        "As always you need to stage the newly created file and then commit it."
      ]
    },
    {
      "cell_type": "code",
      "metadata": {
        "id": "tYcc980RJsye",
        "colab_type": "code",
        "colab": {}
      },
      "source": [
        "%%bash\n",
        "git add README\n",
        "git commit -m 'initial commit'"
      ],
      "execution_count": 0,
      "outputs": []
    },
    {
      "cell_type": "markdown",
      "metadata": {
        "id": "qNvuXisqJsyg",
        "colab_type": "text"
      },
      "source": [
        "As you recall from an earlier notebook, source code is stored as binary large objects (blobs) in a Git repo. If you examine the remote repo using the `find` command you will notice that it does not contain any blogs named using a SHA-1 hash."
      ]
    },
    {
      "cell_type": "code",
      "metadata": {
        "id": "8gV2jkTGJsyh",
        "colab_type": "code",
        "colab": {}
      },
      "source": [
        "!find ../../shared_repo.git"
      ],
      "execution_count": 0,
      "outputs": []
    },
    {
      "cell_type": "markdown",
      "metadata": {
        "id": "S8D4RkIbJsyj",
        "colab_type": "text"
      },
      "source": [
        "SHA-1 based names are missing because the `shared_repo` remote was created empty and none of the developers have pushed any files there yet. Let's change that."
      ]
    },
    {
      "cell_type": "code",
      "metadata": {
        "id": "2d1Cgh6dJsyk",
        "colab_type": "code",
        "colab": {}
      },
      "source": [
        "!git push origin master"
      ],
      "execution_count": 0,
      "outputs": []
    },
    {
      "cell_type": "markdown",
      "metadata": {
        "id": "EndLGCjtJsyn",
        "colab_type": "text"
      },
      "source": [
        "The `push` command instructed Git to take the `master` branch from the current repo and to push to the remote all of the commits that exist in the local repo's `master` branch but not in the remote repo.\n",
        "\n",
        "Notice that after the `push` succeeds the `shared_repo` directory contains the same commits with the same hash values as the local repo."
      ]
    },
    {
      "cell_type": "code",
      "metadata": {
        "id": "DiUvmc-_Jsyn",
        "colab_type": "code",
        "colab": {}
      },
      "source": [
        "!find ../../shared_repo.git"
      ],
      "execution_count": 0,
      "outputs": []
    },
    {
      "cell_type": "code",
      "metadata": {
        "id": "lo_WbxF8Jsyq",
        "colab_type": "code",
        "colab": {}
      },
      "source": [
        "!find .git"
      ],
      "execution_count": 0,
      "outputs": []
    },
    {
      "cell_type": "markdown",
      "metadata": {
        "id": "2sPERBWAJsys",
        "colab_type": "text"
      },
      "source": [
        "Since it is common for developers to be working on different local branches while sharing the same remote, it is common to get the details on the available branches in the remote as shown in the next cell."
      ]
    },
    {
      "cell_type": "code",
      "metadata": {
        "id": "zK_y0ArLJsyt",
        "colab_type": "code",
        "colab": {}
      },
      "source": [
        "!git remote show origin"
      ],
      "execution_count": 0,
      "outputs": []
    },
    {
      "cell_type": "markdown",
      "metadata": {
        "id": "-Gk0rNL_Jsyv",
        "colab_type": "text"
      },
      "source": [
        "Next, let's setup a clone of the remote for the other developer."
      ]
    },
    {
      "cell_type": "code",
      "metadata": {
        "id": "xQNe12FtJsyw",
        "colab_type": "code",
        "colab": {}
      },
      "source": [
        "%cd ../.."
      ],
      "execution_count": 0,
      "outputs": []
    },
    {
      "cell_type": "code",
      "metadata": {
        "id": "pm4RPZYEJsyy",
        "colab_type": "code",
        "colab": {}
      },
      "source": [
        "!mkdir michael"
      ],
      "execution_count": 0,
      "outputs": []
    },
    {
      "cell_type": "code",
      "metadata": {
        "id": "GSA7KV3MJsy1",
        "colab_type": "code",
        "colab": {}
      },
      "source": [
        "%cd michael"
      ],
      "execution_count": 0,
      "outputs": []
    },
    {
      "cell_type": "code",
      "metadata": {
        "id": "bLWnedDyJsy5",
        "colab_type": "code",
        "colab": {}
      },
      "source": [
        "%%bash\n",
        "git config --global user.email \"michael@initech.com\"\n",
        "git config --global user.name \"Michael Bolton\""
      ],
      "execution_count": 0,
      "outputs": []
    },
    {
      "cell_type": "markdown",
      "metadata": {
        "id": "x5prRMArJsy-",
        "colab_type": "text"
      },
      "source": [
        "Just as you have seen earlier in the example with Peter, the developer starts by cloning the `shared_repo`."
      ]
    },
    {
      "cell_type": "code",
      "metadata": {
        "id": "BuVm_GNJJsy_",
        "colab_type": "code",
        "colab": {}
      },
      "source": [
        "!git clone ../shared_repo.git"
      ],
      "execution_count": 0,
      "outputs": []
    },
    {
      "cell_type": "code",
      "metadata": {
        "id": "uBAaOefZJszB",
        "colab_type": "code",
        "colab": {}
      },
      "source": [
        "%cd shared_repo"
      ],
      "execution_count": 0,
      "outputs": []
    },
    {
      "cell_type": "markdown",
      "metadata": {
        "id": "gu14EndLJszD",
        "colab_type": "text"
      },
      "source": [
        "This time, `git clone` didn't just mirror the default, `bare` Git file structure. It also copied the blobs, trees, and commits from the `shared_repo`. Finally, the command also checked out the latest commit from the `master` branch."
      ]
    },
    {
      "cell_type": "code",
      "metadata": {
        "id": "JT1agXjuJszE",
        "colab_type": "code",
        "colab": {}
      },
      "source": [
        "!find ."
      ],
      "execution_count": 0,
      "outputs": []
    },
    {
      "cell_type": "markdown",
      "metadata": {
        "id": "coqvHEXtJszM",
        "colab_type": "text"
      },
      "source": [
        "Let's add Michael to the list of the committers."
      ]
    },
    {
      "cell_type": "code",
      "metadata": {
        "id": "Aif9tPPcJszN",
        "colab_type": "code",
        "colab": {}
      },
      "source": [
        "!echo \"Michael Bolton\" >> README"
      ],
      "execution_count": 0,
      "outputs": []
    },
    {
      "cell_type": "code",
      "metadata": {
        "id": "Dm414oF0JszO",
        "colab_type": "code",
        "colab": {}
      },
      "source": [
        "!cat README"
      ],
      "execution_count": 0,
      "outputs": []
    },
    {
      "cell_type": "code",
      "metadata": {
        "id": "hcwOcQ0ZJszQ",
        "colab_type": "code",
        "colab": {}
      },
      "source": [
        "!git commit -am 'added Michael as committer'"
      ],
      "execution_count": 0,
      "outputs": []
    },
    {
      "cell_type": "markdown",
      "metadata": {
        "id": "UryjVPrNLLH5",
        "colab_type": "text"
      },
      "source": [
        "Once the commit is in place, lets upload it to the remote."
      ]
    },
    {
      "cell_type": "code",
      "metadata": {
        "id": "xbVJBDiDJszS",
        "colab_type": "code",
        "colab": {}
      },
      "source": [
        "!git push origin master"
      ],
      "execution_count": 0,
      "outputs": []
    },
    {
      "cell_type": "markdown",
      "metadata": {
        "id": "PkfvixupJszT",
        "colab_type": "text"
      },
      "source": [
        "Returning back to Peter as the developer..."
      ]
    },
    {
      "cell_type": "code",
      "metadata": {
        "id": "YEAWNxpLJszU",
        "colab_type": "code",
        "colab": {}
      },
      "source": [
        "%cd ../../peter/shared_repo"
      ],
      "execution_count": 0,
      "outputs": []
    },
    {
      "cell_type": "code",
      "metadata": {
        "id": "hpJMPK4wJszW",
        "colab_type": "code",
        "colab": {}
      },
      "source": [
        "%%bash\n",
        "git config --global user.email \"peter@initech.com\"\n",
        "git config --global user.name \"Peter Gibbons\""
      ],
      "execution_count": 0,
      "outputs": []
    },
    {
      "cell_type": "markdown",
      "metadata": {
        "id": "iDnAQ-hGJszZ",
        "colab_type": "text"
      },
      "source": [
        "This time Peter is concerned about potential conflicts so he will use a `git fetch` first."
      ]
    },
    {
      "cell_type": "code",
      "metadata": {
        "id": "aafrHyosJsza",
        "colab_type": "code",
        "colab": {}
      },
      "source": [
        "!git fetch"
      ],
      "execution_count": 0,
      "outputs": []
    },
    {
      "cell_type": "markdown",
      "metadata": {
        "id": "Rj2Si844Jszc",
        "colab_type": "text"
      },
      "source": [
        "Using `--no-ff --no-commit` option allows Michael to examine the potential merge before he commits it to his repo."
      ]
    },
    {
      "cell_type": "code",
      "metadata": {
        "id": "xFpgWeaVJszc",
        "colab_type": "code",
        "colab": {}
      },
      "source": [
        "!git merge --no-ff --no-commit"
      ],
      "execution_count": 0,
      "outputs": []
    },
    {
      "cell_type": "markdown",
      "metadata": {
        "id": "zLu2FngpJsze",
        "colab_type": "text"
      },
      "source": [
        "Next, he can examine the changes made to the working tree index before deciding to accept the merge."
      ]
    },
    {
      "cell_type": "code",
      "metadata": {
        "id": "1645mR4VJsze",
        "colab_type": "code",
        "colab": {}
      },
      "source": [
        "!git diff --cached"
      ],
      "execution_count": 0,
      "outputs": []
    },
    {
      "cell_type": "markdown",
      "metadata": {
        "id": "VYaLFiONJszg",
        "colab_type": "text"
      },
      "source": [
        "Since Peter is OK with adding Michael to the list of committers, he decides to use `git commit` to commit the changes introduced by the merge into his local repo. If Michael wanted to decline the merge he could have used `merge --abort` instead."
      ]
    },
    {
      "cell_type": "code",
      "metadata": {
        "id": "ikUmFLQMJszh",
        "colab_type": "code",
        "colab": {}
      },
      "source": [
        "!git commit -m 'merged Michael as committer'"
      ],
      "execution_count": 0,
      "outputs": []
    },
    {
      "cell_type": "markdown",
      "metadata": {
        "id": "v5SlcgLlJszj",
        "colab_type": "text"
      },
      "source": [
        "Notice that now `git pull` reports that there are no further changes to fetch and merge from the remote repo."
      ]
    },
    {
      "cell_type": "code",
      "metadata": {
        "id": "hKTpq9puJszj",
        "colab_type": "code",
        "colab": {}
      },
      "source": [
        "!git pull"
      ],
      "execution_count": 0,
      "outputs": []
    },
    {
      "cell_type": "code",
      "metadata": {
        "id": "dsZUr9iZJszl",
        "colab_type": "code",
        "colab": {}
      },
      "source": [
        "!git log --graph --decorate --all --oneline"
      ],
      "execution_count": 0,
      "outputs": []
    },
    {
      "cell_type": "markdown",
      "metadata": {
        "id": "qXO8fPuxJvSx",
        "colab_type": "text"
      },
      "source": [
        "Copyright 2019 CounterFactual.AI LLC. Licensed under the Apache License, Version 2.0 (the \"License\"); you may not use this file except in compliance with the License. You may obtain a copy of the License at http://www.apache.org/licenses/LICENSE-2.0 Unless required by applicable law or agreed to in writing, software distributed under the License is distributed on an \"AS IS\" BASIS, WITHOUT WARRANTIES OR CONDITIONS OF ANY KIND, either express or implied. See the License for the specific language governing permissions and limitations under the License"
      ]
    }
  ]
}