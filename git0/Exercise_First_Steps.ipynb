{
  "nbformat": 4,
  "nbformat_minor": 0,
  "metadata": {
    "colab": {
      "name": "Exercise - First Steps.ipynb",
      "provenance": [],
      "collapsed_sections": []
    },
    "kernelspec": {
      "display_name": "Python 3",
      "language": "python",
      "name": "python3"
    },
    "language_info": {
      "codemirror_mode": {
        "name": "ipython",
        "version": 3
      },
      "file_extension": ".py",
      "mimetype": "text/x-python",
      "name": "python",
      "nbconvert_exporter": "python",
      "pygments_lexer": "ipython3",
      "version": "3.7.3"
    }
  },
  "cells": [
    {
      "cell_type": "markdown",
      "metadata": {
        "colab_type": "text",
        "id": "dlsDxqJX6D7V"
      },
      "source": [
        "<h1>First Steps with Git</h1>\n",
        "\n",
        "In this exercise you will practice creating your git repository. Once the repository is ready, you will create sample files, stage them, and commit them to the repository. "
      ]
    },
    {
      "cell_type": "markdown",
      "metadata": {
        "colab_type": "text",
        "id": "2nEZTkvkI-J8"
      },
      "source": [
        "To start, introduce yourself to git by specifying your email and name."
      ]
    },
    {
      "cell_type": "code",
      "metadata": {
        "colab_type": "code",
        "id": "vnx8loWDJEOH",
        "colab": {}
      },
      "source": [
        ""
      ],
      "execution_count": 0,
      "outputs": []
    },
    {
      "cell_type": "markdown",
      "metadata": {
        "colab_type": "text",
        "id": "hPS8WKjT5HBF"
      },
      "source": [
        "Create a new directory named `my_repo` using either the `!` shortcut or the `%%bash` magic. "
      ]
    },
    {
      "cell_type": "code",
      "metadata": {
        "colab_type": "code",
        "id": "G2_qs44x4fUa",
        "colab": {}
      },
      "source": [
        ""
      ],
      "execution_count": 0,
      "outputs": []
    },
    {
      "cell_type": "markdown",
      "metadata": {
        "colab_type": "text",
        "id": "Gn2tcQK55Vk1"
      },
      "source": [
        "If the my_repo was created correctly, the following `%cd` magic should make `my_repo` the present working directory of all of the remaining code in the cell. You can also confirm that the `my_repo` directory was created correctly but clicking on the slide out tab on the left. Once the tab slides to the right, choose the Files from the menu and you should be able to see the directory along with some sample data."
      ]
    },
    {
      "cell_type": "code",
      "metadata": {
        "colab_type": "code",
        "id": "-69rvW665U_I",
        "colab": {}
      },
      "source": [
        "%cd my_repo"
      ],
      "execution_count": 0,
      "outputs": []
    },
    {
      "cell_type": "markdown",
      "metadata": {
        "colab_type": "text",
        "id": "bP5I2Gzs6jwa"
      },
      "source": [
        "The output of the previous code cell should show that `my_repo` is a part of the path of the present working directory. The directory should be empty, so verify that by listing the contents of the directory. The output of the cell should be empty."
      ]
    },
    {
      "cell_type": "code",
      "metadata": {
        "colab_type": "code",
        "id": "16ajYhXY6ec_",
        "colab": {}
      },
      "source": [
        ""
      ],
      "execution_count": 0,
      "outputs": []
    },
    {
      "cell_type": "markdown",
      "metadata": {
        "colab_type": "text",
        "id": "8aKu0jzI7DxX"
      },
      "source": [
        "In this example, you will work on putting together a file with a list of country names. For example, the file should contain country names, like\n",
        "\n",
        "```\n",
        "United States\n",
        "Canada\n",
        "Mexico\n",
        "France\n",
        "Germany\n",
        "```\n",
        "and so on. Create a new file containing a list of your favorite country names. Make sure that you create the file in the `my_repo` directory. Remember that you can use the ``%%writefile`` magic to save the file with the contents specified in a cell."
      ]
    },
    {
      "cell_type": "code",
      "metadata": {
        "colab_type": "code",
        "id": "rA2z9gqa67Ho",
        "colab": {}
      },
      "source": [
        ""
      ],
      "execution_count": 0,
      "outputs": []
    },
    {
      "cell_type": "markdown",
      "metadata": {
        "colab_type": "text",
        "id": "3yFq9F1M-NiZ"
      },
      "source": [
        "Confirm that the file was correctly created by listing the contents of the `my_repo` directory and then by outputing the contents of the file."
      ]
    },
    {
      "cell_type": "code",
      "metadata": {
        "colab_type": "code",
        "id": "Lxd-dDY0-K0r",
        "colab": {}
      },
      "source": [
        ""
      ],
      "execution_count": 0,
      "outputs": []
    },
    {
      "cell_type": "markdown",
      "metadata": {
        "colab_type": "text",
        "id": "wZ0QTlyLAI9I"
      },
      "source": [
        "Great! Now you have a file that you can start managing using Git source control. Before you can do that, make sure that you directory has not been initialized as a git repository yet. You can use Linux `ls` or `find` commands to help you."
      ]
    },
    {
      "cell_type": "code",
      "metadata": {
        "colab_type": "code",
        "id": "qvJb5Hqb-gPT",
        "colab": {}
      },
      "source": [
        ""
      ],
      "execution_count": 0,
      "outputs": []
    },
    {
      "cell_type": "markdown",
      "metadata": {
        "colab_type": "text",
        "id": "5D7IneEUDBrE"
      },
      "source": [
        "Since listing the contents of the current directory showed that `.git` does not exist yet, go ahead and initialize a git repository."
      ]
    },
    {
      "cell_type": "code",
      "metadata": {
        "colab_type": "code",
        "id": "esn0WnE0C_o9",
        "colab": {}
      },
      "source": [
        ""
      ],
      "execution_count": 0,
      "outputs": []
    },
    {
      "cell_type": "markdown",
      "metadata": {
        "colab_type": "text",
        "id": "GA8Agl-3ECkb"
      },
      "source": [
        "A brand new git repository should not track any objects. List the contents of the `.git` directory and confirm that the `objects` subdirectory does not contain any objects."
      ]
    },
    {
      "cell_type": "code",
      "metadata": {
        "colab_type": "code",
        "id": "mgmpkefGD4Xo",
        "colab": {}
      },
      "source": [
        ""
      ],
      "execution_count": 0,
      "outputs": []
    },
    {
      "cell_type": "markdown",
      "metadata": {
        "colab_type": "text",
        "id": "73cbACUtEh9k"
      },
      "source": [
        "Although a brand new git repository does not track any commited objects, it does track files in the working directory. In this case, `my_repo` is the working directory. Use the `status --short` operation to check that your file with the list of the countries is tracked by git."
      ]
    },
    {
      "cell_type": "code",
      "metadata": {
        "colab_type": "code",
        "id": "G_G_DMSpERyT",
        "colab": {}
      },
      "source": [
        ""
      ],
      "execution_count": 0,
      "outputs": []
    },
    {
      "cell_type": "markdown",
      "metadata": {
        "colab_type": "text",
        "id": "eaxwGCXaFAQ7"
      },
      "source": [
        "The output of the `git status` operation should confirm that your files with the country names is untracked state, shortened to the `??` status. \n",
        "\n",
        "Use the `add` operation to add (in other words, stage) your countries file for commit."
      ]
    },
    {
      "cell_type": "code",
      "metadata": {
        "colab_type": "code",
        "id": "HEKtYaAFE-e3",
        "colab": {}
      },
      "source": [
        ""
      ],
      "execution_count": 0,
      "outputs": []
    },
    {
      "cell_type": "markdown",
      "metadata": {
        "colab_type": "text",
        "id": "z_JyJY-8F09R"
      },
      "source": [
        "A successful completion of `git add` does not produce any output. However you can confirm that the file was correctly staged by rerunning the `status` command."
      ]
    },
    {
      "cell_type": "code",
      "metadata": {
        "colab_type": "code",
        "id": "XJGQc1zOFUfD",
        "colab": {}
      },
      "source": [
        ""
      ],
      "execution_count": 0,
      "outputs": []
    },
    {
      "cell_type": "markdown",
      "metadata": {
        "colab_type": "text",
        "id": "E2NPf4PAGPT6"
      },
      "source": [
        "The shorthand for the added status is the letter `A` next to the file name. Git also created an object based on the SHA1 hash of the contents of your file. \n",
        "\n",
        "To confirm that the git directory contains an entry under the `objects` subdirectory, list all the files in your `.git` directory."
      ]
    },
    {
      "cell_type": "code",
      "metadata": {
        "colab_type": "code",
        "id": "egUPieJjGGTd",
        "colab": {}
      },
      "source": [
        ""
      ],
      "execution_count": 0,
      "outputs": []
    },
    {
      "cell_type": "markdown",
      "metadata": {
        "colab_type": "text",
        "id": "s0cRAdZ7IPSi"
      },
      "source": [
        "**NOTE** Right now your working directory is in a state where the files need to be committed as soon as possible. Remember that Git will help you manage the changes that have been **committed**. Commit the changes as soon as possible or risk losing them!\n",
        "\n",
        "Use `-m 'initial commit` option to specify your commit message."
      ]
    },
    {
      "cell_type": "code",
      "metadata": {
        "colab_type": "code",
        "id": "XhMweRxkINx4",
        "colab": {}
      },
      "source": [
        ""
      ],
      "execution_count": 0,
      "outputs": []
    },
    {
      "cell_type": "markdown",
      "metadata": {
        "colab_type": "text",
        "id": "MX_OXoMiJVuu"
      },
      "source": [
        "Congratulations! You just made your first commit to the repository. \n",
        "\n",
        "Run `git log` to confirm that the commit exists in the git history. Don't worry about the mentions of `HEAD -> master` pointers in the output just yet. Both will be covered in the upcoming sections. "
      ]
    },
    {
      "cell_type": "code",
      "metadata": {
        "colab_type": "code",
        "id": "FKep3dIAI4K-",
        "colab": {}
      },
      "source": [
        ""
      ],
      "execution_count": 0,
      "outputs": []
    },
    {
      "cell_type": "markdown",
      "metadata": {
        "colab_type": "text",
        "id": "Q6aN60kXKsK8"
      },
      "source": [
        "Recall that a commit is just another object in the git object database. The hash value next to the word `commit` in the output of `git log` is used by git to track the commit in its database. List the contents of the .git directory to confirm that the hash value exists under the `objects` subdirectory.\n"
      ]
    },
    {
      "cell_type": "code",
      "metadata": {
        "colab_type": "code",
        "id": "oRrpmAPvLCcG",
        "colab": {}
      },
      "source": [
        ""
      ],
      "execution_count": 0,
      "outputs": []
    },
    {
      "cell_type": "markdown",
      "metadata": {
        "id": "kgH_r3e3pWAf",
        "colab_type": "text"
      },
      "source": [
        "Copyright 2019 CounterFactual.AI LLC. Licensed under the Apache License, Version 2.0 (the \"License\"); you may not use this file except in compliance with the License. You may obtain a copy of the License at http://www.apache.org/licenses/LICENSE-2.0 Unless required by applicable law or agreed to in writing, software distributed under the License is distributed on an \"AS IS\" BASIS, WITHOUT WARRANTIES OR CONDITIONS OF ANY KIND, either express or implied. See the License for the specific language governing permissions and limitations under the License"
      ]
    }
  ]
}