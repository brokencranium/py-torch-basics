{
  "nbformat": 4,
  "nbformat_minor": 0,
  "metadata": {
    "kernelspec": {
      "display_name": "Python 3",
      "language": "python",
      "name": "python3"
    },
    "language_info": {
      "codemirror_mode": {
        "name": "ipython",
        "version": 3
      },
      "file_extension": ".py",
      "mimetype": "text/x-python",
      "name": "python",
      "nbconvert_exporter": "python",
      "pygments_lexer": "ipython3",
      "version": "3.7.3"
    },
    "colab": {
      "name": "Exercise - Branch and Merge.ipynb",
      "provenance": [],
      "collapsed_sections": []
    }
  },
  "cells": [
    {
      "cell_type": "markdown",
      "metadata": {
        "id": "FcsWDTsAXb_f",
        "colab_type": "text"
      },
      "source": [
        "<h1>Branch and Merge</h1>\n",
        "\n",
        "This exercise will ask you to work with a repository that contains a `us` directory which in turn contains various subdirectories with US state names and `cities` files listing city names for various US states. \n",
        "\n",
        "Your task will be to create development branches to perform the tasks of merging the multiple `cities` files from state-specific subdirectories to a single `cities` file beneath the `us` directory."
      ]
    },
    {
      "cell_type": "markdown",
      "metadata": {
        "id": "n_bjDG0tXb_l",
        "colab_type": "text"
      },
      "source": [
        "Next cell sets up a `merge_cities_repo` and a `develop` branch you should use for the exercise. Feel feel to update your user name and email in the cell."
      ]
    },
    {
      "cell_type": "code",
      "metadata": {
        "id": "fdPe3VurXb_m",
        "colab_type": "code",
        "colab": {}
      },
      "source": [
        "%%bash\n",
        "git config --global user.email \"peter@initech.com\"\n",
        "git config --global user.name \"Peter Gibbons\"\n",
        "\n",
        "git init merge_cities_repo\n",
        "\n",
        "cd merge_cities_repo\n",
        "\n",
        "mkdir -p us/ca us/tx\n",
        "\n",
        "echo \"Los Angeles\n",
        "San Diego\n",
        "San Jose\" > us/ca/cities\n",
        "\n",
        "echo \"Austin\n",
        "Houston\n",
        "Dallas\" > us/tx/cities\n",
        "\n",
        "git checkout -b develop\n",
        "git add us\n",
        "git commit -m 'initial commit'"
      ],
      "execution_count": 0,
      "outputs": []
    },
    {
      "cell_type": "markdown",
      "metadata": {
        "id": "7URmSaGhXb_q",
        "colab_type": "text"
      },
      "source": [
        "Change the present working directory of your notebook to the newly created repo."
      ]
    },
    {
      "cell_type": "code",
      "metadata": {
        "id": "xklRKKNDXb_q",
        "colab_type": "code",
        "colab": {}
      },
      "source": [
        "%cd merge_cities_repo"
      ],
      "execution_count": 0,
      "outputs": []
    },
    {
      "cell_type": "markdown",
      "metadata": {
        "id": "1I0NhvwEXb_u",
        "colab_type": "text"
      },
      "source": [
        "Start by configuring an alias to display your Git log as a graph. As you recall, the alias should allow you to display the log with the `--graph --decorate --oneline --all` parameters."
      ]
    },
    {
      "cell_type": "code",
      "metadata": {
        "id": "Up0LxnrzXb_v",
        "colab_type": "code",
        "colab": {}
      },
      "source": [
        ""
      ],
      "execution_count": 0,
      "outputs": []
    },
    {
      "cell_type": "markdown",
      "metadata": {
        "id": "3NDSzxLqXb_x",
        "colab_type": "text"
      },
      "source": [
        "Display the output of your aliased `git log` command. You should see an output similar to the following\n",
        "\n",
        "<pre>\n",
        "* 09a8... (HEAD -> develop) initial commit\n",
        "</pre>"
      ]
    },
    {
      "cell_type": "code",
      "metadata": {
        "id": "xyQwjlIuXb_y",
        "colab_type": "code",
        "colab": {}
      },
      "source": [
        ""
      ],
      "execution_count": 0,
      "outputs": []
    },
    {
      "cell_type": "markdown",
      "metadata": {
        "id": "HkBut392Xb_2",
        "colab_type": "text"
      },
      "source": [
        "Use the bash `find` command to explore the contents of the `us` subdirectory. You will be working with the `cities` files for California and Texas."
      ]
    },
    {
      "cell_type": "code",
      "metadata": {
        "id": "qyG_HPT_Xb_3",
        "colab_type": "code",
        "colab": {}
      },
      "source": [
        ""
      ],
      "execution_count": 0,
      "outputs": []
    },
    {
      "cell_type": "markdown",
      "metadata": {
        "id": "VJHJ-dKDXb_6",
        "colab_type": "text"
      },
      "source": [
        "Start by creating branches for the issues you are planning to work on, i.e. move the city names from  \n",
        "- `/us/ca/cities` to `/us/cities`\n",
        "- `/us/tx/cities` to `/us/cities`"
      ]
    },
    {
      "cell_type": "code",
      "metadata": {
        "scrolled": false,
        "id": "Fb9saBw0Xb_7",
        "colab_type": "code",
        "colab": {}
      },
      "source": [
        ""
      ],
      "execution_count": 0,
      "outputs": []
    },
    {
      "cell_type": "markdown",
      "metadata": {
        "id": "d4idX_mTXb__",
        "colab_type": "text"
      },
      "source": [
        "To start, checkout the branch where you will work on moving the California cities. "
      ]
    },
    {
      "cell_type": "code",
      "metadata": {
        "id": "2rY18qYsXb__",
        "colab_type": "code",
        "colab": {}
      },
      "source": [
        ""
      ],
      "execution_count": 0,
      "outputs": []
    },
    {
      "cell_type": "markdown",
      "metadata": {
        "id": "mX_ULnOcXcAD",
        "colab_type": "text"
      },
      "source": [
        "Edit the `us/cities` file to ensure that it includes all the cities from `us/ca/cities`."
      ]
    },
    {
      "cell_type": "code",
      "metadata": {
        "id": "HCtcY3KdXcAE",
        "colab_type": "code",
        "colab": {}
      },
      "source": [
        ""
      ],
      "execution_count": 0,
      "outputs": []
    },
    {
      "cell_type": "code",
      "metadata": {
        "id": "YhFhnyN0XcAH",
        "colab_type": "code",
        "colab": {}
      },
      "source": [
        ""
      ],
      "execution_count": 0,
      "outputs": []
    },
    {
      "cell_type": "code",
      "metadata": {
        "id": "xJ3S-9pdXcAK",
        "colab_type": "code",
        "colab": {}
      },
      "source": [
        ""
      ],
      "execution_count": 0,
      "outputs": []
    },
    {
      "cell_type": "markdown",
      "metadata": {
        "id": "M0hhyfJnXcAQ",
        "colab_type": "text"
      },
      "source": [
        "After the changes are in place, don't forget to remove the original California cities file and to stage the `us/cities` file for a commit. After that, commit the changes."
      ]
    },
    {
      "cell_type": "code",
      "metadata": {
        "id": "kulyxokmXcAR",
        "colab_type": "code",
        "colab": {}
      },
      "source": [
        ""
      ],
      "execution_count": 0,
      "outputs": []
    },
    {
      "cell_type": "markdown",
      "metadata": {
        "id": "lpDvANBpXcAT",
        "colab_type": "text"
      },
      "source": [
        "Following the commit, the output of your `git log` alias should resemble the following:\n",
        "\n",
        "<pre>\n",
        "* 1a1d... (HEAD -> issue-ca) moved California cities\n",
        "* 09a8... (issue-tx, develop) initial commit\n",
        "</pre>"
      ]
    },
    {
      "cell_type": "code",
      "metadata": {
        "id": "GZpdl2EuXcAU",
        "colab_type": "code",
        "colab": {}
      },
      "source": [
        ""
      ],
      "execution_count": 0,
      "outputs": []
    },
    {
      "cell_type": "markdown",
      "metadata": {
        "id": "kTjeWdSNXcAW",
        "colab_type": "text"
      },
      "source": [
        "Switch to the branch you created to work on the Texas cities."
      ]
    },
    {
      "cell_type": "code",
      "metadata": {
        "id": "D_rPnRgtXcAX",
        "colab_type": "code",
        "colab": {}
      },
      "source": [
        ""
      ],
      "execution_count": 0,
      "outputs": []
    },
    {
      "cell_type": "markdown",
      "metadata": {
        "id": "8SoERfQ2XcAZ",
        "colab_type": "text"
      },
      "source": [
        "Confirm that the `us/cities` file does not exist yet in this branch."
      ]
    },
    {
      "cell_type": "code",
      "metadata": {
        "id": "8vpy4CEaXcAa",
        "colab_type": "code",
        "colab": {}
      },
      "source": [
        ""
      ],
      "execution_count": 0,
      "outputs": []
    },
    {
      "cell_type": "markdown",
      "metadata": {
        "id": "MYn1pn4MXcAc",
        "colab_type": "text"
      },
      "source": [
        "Since the file does not exist, create it using the contents of the Texas `cities` file."
      ]
    },
    {
      "cell_type": "code",
      "metadata": {
        "id": "h3-JIIG-XcAc",
        "colab_type": "code",
        "colab": {}
      },
      "source": [
        ""
      ],
      "execution_count": 0,
      "outputs": []
    },
    {
      "cell_type": "markdown",
      "metadata": {
        "id": "BVZX8KDmXcAf",
        "colab_type": "text"
      },
      "source": [
        "Remove the original Texas file and commit the new `us/cities` file to your branch."
      ]
    },
    {
      "cell_type": "code",
      "metadata": {
        "id": "XQGea5cdXcAh",
        "colab_type": "code",
        "colab": {}
      },
      "source": [
        ""
      ],
      "execution_count": 0,
      "outputs": []
    },
    {
      "cell_type": "markdown",
      "metadata": {
        "id": "15SEj2PRXcAk",
        "colab_type": "text"
      },
      "source": [
        "If you re-run your `git log` alias now, you should see the output resembling the following:\n",
        "\n",
        "<pre>\n",
        "* f188... (HEAD -> issue-tx) moved Texas cities\n",
        "| * 1a1d... (issue-ca) moved California cities\n",
        "|/  \n",
        "* 09a8... (develop) initial commit\n",
        "</pre>"
      ]
    },
    {
      "cell_type": "code",
      "metadata": {
        "id": "5mPoSG_PXcAl",
        "colab_type": "code",
        "colab": {}
      },
      "source": [
        ""
      ],
      "execution_count": 0,
      "outputs": []
    },
    {
      "cell_type": "markdown",
      "metadata": {
        "id": "qG-S5HO-XcAn",
        "colab_type": "text"
      },
      "source": [
        "Check out the `develop` branch and then confirm that your `HEAD` is pointing to the `develop` branch by using the appropriate bash command to output the contents of the `HEAD` file."
      ]
    },
    {
      "cell_type": "code",
      "metadata": {
        "id": "XQC2I6RDXcAo",
        "colab_type": "code",
        "colab": {}
      },
      "source": [
        ""
      ],
      "execution_count": 0,
      "outputs": []
    },
    {
      "cell_type": "code",
      "metadata": {
        "id": "AE1W2xC5XcAq",
        "colab_type": "code",
        "colab": {}
      },
      "source": [
        ""
      ],
      "execution_count": 0,
      "outputs": []
    },
    {
      "cell_type": "markdown",
      "metadata": {
        "id": "0unFQQqsXcAs",
        "colab_type": "text"
      },
      "source": [
        "Re-run your `git log` alias to confirm that now `HEAD` is pointing at the `develop` branch."
      ]
    },
    {
      "cell_type": "code",
      "metadata": {
        "id": "OUJeK7RQXcAs",
        "colab_type": "code",
        "colab": {}
      },
      "source": [
        ""
      ],
      "execution_count": 0,
      "outputs": []
    },
    {
      "cell_type": "markdown",
      "metadata": {
        "id": "YYqYjWXWXcAu",
        "colab_type": "text"
      },
      "source": [
        "Merge your work on California cities into the `develop` branch."
      ]
    },
    {
      "cell_type": "code",
      "metadata": {
        "id": "3yYxb6x-XcAv",
        "colab_type": "code",
        "colab": {}
      },
      "source": [
        ""
      ],
      "execution_count": 0,
      "outputs": []
    },
    {
      "cell_type": "markdown",
      "metadata": {
        "id": "v8FwC4IzXcAx",
        "colab_type": "text"
      },
      "source": [
        "This merge should not have resulted in any conflicts. Shortly you will learn more about why this merge returned a `Fast-forward` message.\n",
        "\n",
        "Rerun your `git log` alias. Notice that `HEAD` and `develop` should have moved to your branch dedicated to working on the California cities, for example:\n",
        "\n",
        "<pre>\n",
        "* f188... (issue-tx) moved Texas cities\n",
        "| * 1a1d... (HEAD -> develop, issue-ca) moved California cities\n",
        "|/  \n",
        "* 09a8... initial commit\n",
        "</pre>"
      ]
    },
    {
      "cell_type": "code",
      "metadata": {
        "id": "KJ74PSsUXcAx",
        "colab_type": "code",
        "colab": {}
      },
      "source": [
        ""
      ],
      "execution_count": 0,
      "outputs": []
    },
    {
      "cell_type": "markdown",
      "metadata": {
        "id": "4PmlUiolXcA0",
        "colab_type": "text"
      },
      "source": [
        "Next, attempt to merge the branch where you worked on merging Texas cities into your `develop` branch. Expect to see a conflict since you modified same lines of `us/cities` across both the Texas and California related branches."
      ]
    },
    {
      "cell_type": "code",
      "metadata": {
        "id": "Yd8AOIAkXcA1",
        "colab_type": "code",
        "colab": {}
      },
      "source": [
        ""
      ],
      "execution_count": 0,
      "outputs": []
    },
    {
      "cell_type": "markdown",
      "metadata": {
        "id": "-FO-G023XcA5",
        "colab_type": "text"
      },
      "source": [
        "This merge is more complex than what you have seen so far. Git was not able to determine that the `cities` file should be the union of the files across both branches. So, to let you choose the right file, it created multiple copies. Use the `find` command to list the contents of the `us` directory."
      ]
    },
    {
      "cell_type": "code",
      "metadata": {
        "id": "9hRStj2RXcA5",
        "colab_type": "code",
        "colab": {}
      },
      "source": [
        ""
      ],
      "execution_count": 0,
      "outputs": []
    },
    {
      "cell_type": "markdown",
      "metadata": {
        "id": "2P84H2UOXcA9",
        "colab_type": "text"
      },
      "source": [
        "The `cities~HEAD` file is based on the `develop` branch because your `HEAD` pointed to `develop` prior to the merge. The other file is based on the branch where did the work on merging the Texas cities.\n",
        "\n",
        "In most cases, Git can figure out the best way to merge a file, however in this situatiation you need to resolve the merge manually. Use `git status` to confirm that the files created by Git during the merge are untracked. "
      ]
    },
    {
      "cell_type": "code",
      "metadata": {
        "id": "PP7Cj4rvXcA-",
        "colab_type": "code",
        "colab": {}
      },
      "source": [
        ""
      ],
      "execution_count": 0,
      "outputs": []
    },
    {
      "cell_type": "markdown",
      "metadata": {
        "id": "V_msW2hPXcBB",
        "colab_type": "text"
      },
      "source": [
        "To start, examine the contents of the two files to make sure that they contain the expected city names."
      ]
    },
    {
      "cell_type": "code",
      "metadata": {
        "id": "mLf__pUhXcBB",
        "colab_type": "code",
        "colab": {}
      },
      "source": [
        ""
      ],
      "execution_count": 0,
      "outputs": []
    },
    {
      "cell_type": "code",
      "metadata": {
        "id": "92m-lzvDXcBE",
        "colab_type": "code",
        "colab": {}
      },
      "source": [
        ""
      ],
      "execution_count": 0,
      "outputs": []
    },
    {
      "cell_type": "markdown",
      "metadata": {
        "id": "LwOB-h3AXcBG",
        "colab_type": "text"
      },
      "source": [
        "Next, edit the `us/cities` file to have the right contents."
      ]
    },
    {
      "cell_type": "code",
      "metadata": {
        "id": "A3OvZaG6XcBG",
        "colab_type": "code",
        "colab": {}
      },
      "source": [
        ""
      ],
      "execution_count": 0,
      "outputs": []
    },
    {
      "cell_type": "code",
      "metadata": {
        "id": "thYn1e-pXcBI",
        "colab_type": "code",
        "colab": {}
      },
      "source": [
        ""
      ],
      "execution_count": 0,
      "outputs": []
    },
    {
      "cell_type": "markdown",
      "metadata": {
        "id": "3T6DHMn_XcBK",
        "colab_type": "text"
      },
      "source": [
        "To resolve the merge, make sure that you stage the updated `us/cities` file and commit it your current, `develop` branch."
      ]
    },
    {
      "cell_type": "code",
      "metadata": {
        "id": "-RY2i4ztXcBL",
        "colab_type": "code",
        "colab": {}
      },
      "source": [
        ""
      ],
      "execution_count": 0,
      "outputs": []
    },
    {
      "cell_type": "markdown",
      "metadata": {
        "id": "zjyCwjkjXcBN",
        "colab_type": "text"
      },
      "source": [
        "If you have correctly completed this recursive merge, the output of your `git log` alias should resemble the following\n",
        "\n",
        "<pre>\n",
        "*   3bb5... (HEAD -> develop) merged issue branches for Texas and California\n",
        "|\\  \n",
        "| * f188... (issue-tx) moved Texas cities\n",
        "* | 1a1d... (issue-ca) moved California cities\n",
        "|/  \n",
        "* 09a8... initial commit\n",
        "</pre>"
      ]
    },
    {
      "cell_type": "code",
      "metadata": {
        "id": "1dw0lPsdXcBN",
        "colab_type": "code",
        "colab": {}
      },
      "source": [
        ""
      ],
      "execution_count": 0,
      "outputs": []
    },
    {
      "cell_type": "markdown",
      "metadata": {
        "id": "DA9yGtNSY0y5",
        "colab_type": "text"
      },
      "source": [
        "Copyright 2019 CounterFactual.AI LLC. Licensed under the Apache License, Version 2.0 (the \"License\"); you may not use this file except in compliance with the License. You may obtain a copy of the License at http://www.apache.org/licenses/LICENSE-2.0 Unless required by applicable law or agreed to in writing, software distributed under the License is distributed on an \"AS IS\" BASIS, WITHOUT WARRANTIES OR CONDITIONS OF ANY KIND, either express or implied. See the License for the specific language governing permissions and limitations under the License"
      ]
    }
  ]
}