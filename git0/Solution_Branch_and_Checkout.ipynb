{
  "nbformat": 4,
  "nbformat_minor": 0,
  "metadata": {
    "kernelspec": {
      "display_name": "Python 3",
      "language": "python",
      "name": "python3"
    },
    "language_info": {
      "codemirror_mode": {
        "name": "ipython",
        "version": 3
      },
      "file_extension": ".py",
      "mimetype": "text/x-python",
      "name": "python",
      "nbconvert_exporter": "python",
      "pygments_lexer": "ipython3",
      "version": "3.7.3"
    },
    "colab": {
      "name": "Solution - Branch and Checkout.ipynb",
      "provenance": [],
      "collapsed_sections": []
    }
  },
  "cells": [
    {
      "cell_type": "markdown",
      "metadata": {
        "id": "9W54c98mA9jQ",
        "colab_type": "text"
      },
      "source": [
        "<h1>Branch and Checkout</h1>\n",
        "\n",
        "The following initializes a `us_cities_repo` repository for you and prepares a branch named `develop` that you will be using in this notebook. The repo contains separate directories for the following states: California, Texas, New York, and Florida.\n",
        "\n",
        "As part of this exercise, you will be working on independent branches that will be populating names of cities for the states.\n",
        "\n",
        "Feel free to update the user name and email if you'd like."
      ]
    },
    {
      "cell_type": "code",
      "metadata": {
        "id": "xVmHsQQNA9jT",
        "colab_type": "code",
        "colab": {}
      },
      "source": [
        "%%bash\n",
        "git config --global user.email \"peter@initech.com\"\n",
        "git config --global user.name \"Peter Gibbons\"\n",
        "\n",
        "git init us_cities_repo\n",
        "\n",
        "cd us_cities_repo\n",
        "\n",
        "mkdir ca tx ny fl\n",
        "\n",
        "echo \"\n",
        "*\n",
        "!.gitignore\n",
        "\" > ca/.gitignore\n",
        "\n",
        "cp ca/.gitignore tx/ ; cp ca/.gitignore ny/ ; cp ca/.gitignore fl/\n",
        "\n",
        "git add ca tx ny fl\n",
        "\n",
        "git commit -m 'initial commit'\n",
        "\n",
        "git branch develop\n",
        "\n",
        "git checkout develop"
      ],
      "execution_count": 0,
      "outputs": []
    },
    {
      "cell_type": "markdown",
      "metadata": {
        "id": "J3tyabxAA9jX",
        "colab_type": "text"
      },
      "source": [
        "If the git repo was initialized correctly, change the present working directory to the repo."
      ]
    },
    {
      "cell_type": "code",
      "metadata": {
        "id": "1RhQKCblA9jY",
        "colab_type": "code",
        "colab": {}
      },
      "source": [
        "%cd us_cities_repo"
      ],
      "execution_count": 0,
      "outputs": []
    },
    {
      "cell_type": "markdown",
      "metadata": {
        "id": "QhhTS9cOA9ja",
        "colab_type": "text"
      },
      "source": [
        "Use the `status` command to confirm that you are working on the `develop` branch."
      ]
    },
    {
      "cell_type": "code",
      "metadata": {
        "id": "QhJpwnn1A9jb",
        "colab_type": "code",
        "colab": {}
      },
      "source": [
        "!git status "
      ],
      "execution_count": 0,
      "outputs": []
    },
    {
      "cell_type": "markdown",
      "metadata": {
        "id": "vIWoG0pSA9je",
        "colab_type": "text"
      },
      "source": [
        "List the files in the current directory to confirm that it contains the directories with the codes for the US states."
      ]
    },
    {
      "cell_type": "code",
      "metadata": {
        "id": "aVUClbv1A9je",
        "colab_type": "code",
        "colab": {}
      },
      "source": [
        "!ls -lh"
      ],
      "execution_count": 0,
      "outputs": []
    },
    {
      "cell_type": "markdown",
      "metadata": {
        "id": "nAjv75xPA9jh",
        "colab_type": "text"
      },
      "source": [
        "Create separate branches for two issues named `issue-ca` and `issue-tx` to track the work related to adding city names for those states."
      ]
    },
    {
      "cell_type": "code",
      "metadata": {
        "id": "_R1VFjy1A9ji",
        "colab_type": "code",
        "colab": {}
      },
      "source": [
        "%%bash\n",
        "git branch issue-ca\n",
        "git branch issue-tx"
      ],
      "execution_count": 0,
      "outputs": []
    },
    {
      "cell_type": "markdown",
      "metadata": {
        "id": "qaKvQwPTA9jk",
        "colab_type": "text"
      },
      "source": [
        "Use the `branch` command to list the existing branches and to re-confirm that you are still on the `develop` branch."
      ]
    },
    {
      "cell_type": "code",
      "metadata": {
        "id": "XGPq2vEfA9jk",
        "colab_type": "code",
        "colab": {}
      },
      "source": [
        "!git branch"
      ],
      "execution_count": 0,
      "outputs": []
    },
    {
      "cell_type": "markdown",
      "metadata": {
        "id": "RztjOJTxA9jn",
        "colab_type": "text"
      },
      "source": [
        "Switch to the `issue-ca` branch so that you can start working on the list of the California cities."
      ]
    },
    {
      "cell_type": "code",
      "metadata": {
        "id": "WIyJap--A9jn",
        "colab_type": "code",
        "colab": {}
      },
      "source": [
        "!git checkout issue-ca"
      ],
      "execution_count": 0,
      "outputs": []
    },
    {
      "cell_type": "markdown",
      "metadata": {
        "id": "r3kmBFvqA9jq",
        "colab_type": "text"
      },
      "source": [
        "Just to be sure, re-confirm that you are on the `issue-ca` branch by running the `branch` command and ensuring that the asterisk is to the left of the corresponding branch name."
      ]
    },
    {
      "cell_type": "code",
      "metadata": {
        "id": "wA-5LeNlA9jq",
        "colab_type": "code",
        "colab": {}
      },
      "source": [
        "!git branch"
      ],
      "execution_count": 0,
      "outputs": []
    },
    {
      "cell_type": "markdown",
      "metadata": {
        "id": "wkaue9keA9jt",
        "colab_type": "text"
      },
      "source": [
        "Use the `%cd` magic to change the present working directory to the `ca` directory and to start working on the file."
      ]
    },
    {
      "cell_type": "code",
      "metadata": {
        "id": "bk-anTMWA9jt",
        "colab_type": "code",
        "colab": {}
      },
      "source": [
        "%cd ca"
      ],
      "execution_count": 0,
      "outputs": []
    },
    {
      "cell_type": "markdown",
      "metadata": {
        "id": "GvvfUGSeA9jv",
        "colab_type": "text"
      },
      "source": [
        "Great! Now fill in the following cell with the names of your favorite California cities. Note that `%%writefile` magic is already pre-filled for you."
      ]
    },
    {
      "cell_type": "code",
      "metadata": {
        "id": "WtoTboULA9jw",
        "colab_type": "code",
        "colab": {}
      },
      "source": [
        "%%writefile cities\n",
        "Los Angeles\n",
        "San Diego\n",
        "San Jose"
      ],
      "execution_count": 0,
      "outputs": []
    },
    {
      "cell_type": "markdown",
      "metadata": {
        "id": "_P7dIhzHA9jz",
        "colab_type": "text"
      },
      "source": [
        "Once the file is written out, attempt to commit it to the branch."
      ]
    },
    {
      "cell_type": "code",
      "metadata": {
        "id": "aYWW8kgcA9jz",
        "colab_type": "code",
        "colab": {}
      },
      "source": [
        "%%bash\n",
        "git add cities\n",
        "git commit -am 'added california cities'"
      ],
      "execution_count": 0,
      "outputs": []
    },
    {
      "cell_type": "markdown",
      "metadata": {
        "id": "TWS6tewBA9j1",
        "colab_type": "text"
      },
      "source": [
        "If you forgot to deal with the `.gitignore` file before committing, you shouldn't be too surprised. The earlier logic of keeping `ca` as an empty, placeholder directory no longer holds. You can remove the `.gitignore` file entirely since it is no longer needed. Don't forget to commit the changes to both the `cities` file and the `.gitignore` file."
      ]
    },
    {
      "cell_type": "code",
      "metadata": {
        "id": "8jKNT5RqA9j2",
        "colab_type": "code",
        "colab": {}
      },
      "source": [
        "%%bash\n",
        "git rm .gitignore\n",
        "git add cities\n",
        "git commit -am 'removed .gitignore and added ca cities'"
      ],
      "execution_count": 0,
      "outputs": []
    },
    {
      "cell_type": "markdown",
      "metadata": {
        "id": "aI5_s2c9A9j4",
        "colab_type": "text"
      },
      "source": [
        "Since you will need to use the `log --oneline --graph --decorate --all` option repeatedly in this notebook, setup an alias for this command, and then try it out."
      ]
    },
    {
      "cell_type": "code",
      "metadata": {
        "id": "_QQJBXceA9j4",
        "colab_type": "code",
        "colab": {}
      },
      "source": [
        "!git config --global alias.lol 'log --all --graph --decorate --oneline'"
      ],
      "execution_count": 0,
      "outputs": []
    },
    {
      "cell_type": "code",
      "metadata": {
        "id": "7qDMpG79A9j6",
        "colab_type": "code",
        "colab": {}
      },
      "source": [
        "!git lol"
      ],
      "execution_count": 0,
      "outputs": []
    },
    {
      "cell_type": "markdown",
      "metadata": {
        "id": "0vaKzT5iA9j9",
        "colab_type": "text"
      },
      "source": [
        "The output of the git log alias should confirm that you have committed to  `issue-ca` with  `HEAD` pointing to the commit. The output of the log should resemble the following:\n",
        "\n",
        "<pre>\n",
        "* a6... (HEAD -> issue-ca) removed .gitignore and added ca cities\n",
        "* 9a... (master, issue-tx, develop) initial commit\n",
        "</pre>"
      ]
    },
    {
      "cell_type": "markdown",
      "metadata": {
        "id": "GdlLRSzXA9j9",
        "colab_type": "text"
      },
      "source": [
        "Since you have made progress on `issue-ca`, it is time to start on the list of cities for Texas. "
      ]
    },
    {
      "cell_type": "code",
      "metadata": {
        "id": "zJh46eyUA9j-",
        "colab_type": "code",
        "colab": {}
      },
      "source": [
        "%cd ../tx"
      ],
      "execution_count": 0,
      "outputs": []
    },
    {
      "cell_type": "markdown",
      "metadata": {
        "id": "RZQxfqHHA9kA",
        "colab_type": "text"
      },
      "source": [
        "Switch over to the `issue-tx` branch and commit an update the list of cities for the state."
      ]
    },
    {
      "cell_type": "code",
      "metadata": {
        "id": "qe70lPO5A9kB",
        "colab_type": "code",
        "colab": {}
      },
      "source": [
        "!git checkout issue-tx\n",
        "!git branch"
      ],
      "execution_count": 0,
      "outputs": []
    },
    {
      "cell_type": "code",
      "metadata": {
        "id": "ifKqSAADA9kF",
        "colab_type": "code",
        "colab": {}
      },
      "source": [
        "%%writefile cities\n",
        "Austin\n",
        "Dallas\n",
        "Houston"
      ],
      "execution_count": 0,
      "outputs": []
    },
    {
      "cell_type": "markdown",
      "metadata": {
        "id": "_auHUnc2A9kH",
        "colab_type": "text"
      },
      "source": [
        "Go ahead and commit the file to the repo. Don't forget to remove `.gitignore` before committing the `cities`  to the repo."
      ]
    },
    {
      "cell_type": "code",
      "metadata": {
        "id": "cuYx1yVLA9kI",
        "colab_type": "code",
        "colab": {}
      },
      "source": [
        "%%bash \n",
        "git rm .gitignore\n",
        "git add cities\n",
        "git commit -m 'remove gitignore. add texas cities'"
      ],
      "execution_count": 0,
      "outputs": []
    },
    {
      "cell_type": "markdown",
      "metadata": {
        "id": "uLkP629KA9kK",
        "colab_type": "text"
      },
      "source": [
        "Once both `cities` files have been committed, the output of your `log` alias should resemble the following:\n",
        "\n",
        "<pre>\n",
        "* 993.. (HEAD -> issue-tx) remove gitignore. add texas cities\n",
        "| * bcb.. (issue-ca) removed .gitignore and added ca cities\n",
        "|/  \n",
        "* f41.. (master, develop) initial commit\n",
        "</pre>"
      ]
    },
    {
      "cell_type": "code",
      "metadata": {
        "id": "x2vVJPNRA9kK",
        "colab_type": "code",
        "colab": {}
      },
      "source": [
        "!git lol"
      ],
      "execution_count": 0,
      "outputs": []
    },
    {
      "cell_type": "markdown",
      "metadata": {
        "id": "YMkAetirC-QD",
        "colab_type": "text"
      },
      "source": [
        "Copyright 2019 CounterFactual.AI LLC. Licensed under the Apache License, Version 2.0 (the \"License\"); you may not use this file except in compliance with the License. You may obtain a copy of the License at http://www.apache.org/licenses/LICENSE-2.0 Unless required by applicable law or agreed to in writing, software distributed under the License is distributed on an \"AS IS\" BASIS, WITHOUT WARRANTIES OR CONDITIONS OF ANY KIND, either express or implied. See the License for the specific language governing permissions and limitations under the License"
      ]
    }
  ]
}