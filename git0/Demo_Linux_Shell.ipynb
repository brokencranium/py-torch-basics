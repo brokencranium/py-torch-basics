{
  "nbformat": 4,
  "nbformat_minor": 0,
  "metadata": {
    "colab": {
      "name": "Demo_Linux_Shell.ipynb",
      "provenance": [],
      "collapsed_sections": []
    },
    "kernelspec": {
      "name": "python3",
      "display_name": "Python 3"
    }
  },
  "cells": [
    {
      "cell_type": "markdown",
      "metadata": {
        "id": "EAppz5v7Yjcz",
        "colab_type": "text"
      },
      "source": [
        "<h1>Colaboratory and Linux Shell</h1>\n",
        "\n",
        "In this notebook you will do a quick review of common Linux shell commands that you will be using throughout this course."
      ]
    },
    {
      "cell_type": "markdown",
      "metadata": {
        "id": "y0dbXWkA04Ic",
        "colab_type": "text"
      },
      "source": [
        "The `pwd` command tells you the present working directory of your shell. If you have a background working with Windows command line, note that forward slashes are used instead of back slashes. The first forward slash, `/` indicates the root of the file system unlike Windows where device drive names like C: or D: indicate the root of a device specific file system."
      ]
    },
    {
      "cell_type": "code",
      "metadata": {
        "id": "78oFVgYq3mNv",
        "colab_type": "code",
        "colab": {}
      },
      "source": [
        "!pwd"
      ],
      "execution_count": 0,
      "outputs": []
    },
    {
      "cell_type": "markdown",
      "metadata": {
        "id": "n-q7vhlY16nJ",
        "colab_type": "text"
      },
      "source": [
        "The `ls` command lists the contents of the present (current) working directory in the shell. Don't be surprised to see sample files or directories in your notebook instance, they are always provided as examples after your notebook runtime is restarted."
      ]
    },
    {
      "cell_type": "code",
      "metadata": {
        "id": "Rgh_8R01965u",
        "colab_type": "code",
        "colab": {}
      },
      "source": [
        "!ls"
      ],
      "execution_count": 0,
      "outputs": []
    },
    {
      "cell_type": "markdown",
      "metadata": {
        "id": "8Ln09xYo2J67",
        "colab_type": "text"
      },
      "source": [
        "Since the default output for the `ls` command is sparse, the `-lh` option is commonly used to fetch detailed and human readable information about the contents of the directory. "
      ]
    },
    {
      "cell_type": "code",
      "metadata": {
        "id": "7IIZ_Az-2qEN",
        "colab_type": "code",
        "colab": {}
      },
      "source": [
        "!ls -lh"
      ],
      "execution_count": 0,
      "outputs": []
    },
    {
      "cell_type": "markdown",
      "metadata": {
        "id": "HVcY10jQ8KfP",
        "colab_type": "text"
      },
      "source": [
        "The output of the previous cell should look similar to the following\n",
        "```\n",
        "total 4.0K\n",
        "drwxr-xr-x 1 root root 4.0K Aug 27 16:17 sample_data\n",
        "```\n",
        "\n",
        "The 4.0K value is the size of the file system blocks used by the directory. In the  `drwxr-xr-x` string, you can learn both that the entity in the file system  is a directory (based on the prefix d) as well as the details of the read (r), write (w), and execute (x) permissions of the entity. The permissions system is outside the scope of this exercise but you can learn more about it by reading about another Linux utility called `chmod`.\n",
        "\n",
        "The rest of the information about the file system entities if easier to decipher. It includes the user name of the owner and the name of the group that owns the entry, the size of the entry in storage, the last modified date/time as well as the name."
      ]
    },
    {
      "cell_type": "markdown",
      "metadata": {
        "id": "hI-PnH26ABE0",
        "colab_type": "text"
      },
      "source": [
        "To create a directory use the `mkdir <name>` command. "
      ]
    },
    {
      "cell_type": "code",
      "metadata": {
        "id": "XAlhEyo_8J60",
        "colab_type": "code",
        "colab": {}
      },
      "source": [
        "!mkdir my_dir"
      ],
      "execution_count": 0,
      "outputs": []
    },
    {
      "cell_type": "markdown",
      "metadata": {
        "id": "usdPpxn5AMxf",
        "colab_type": "text"
      },
      "source": [
        "Don't worry that the mkdir command does not produce any output. Default Linux commands try to be as \"quiet\" as possible and print output in cases when there is an error or when executed with a verbose flag. "
      ]
    },
    {
      "cell_type": "code",
      "metadata": {
        "id": "Kg5Z0AILASJw",
        "colab_type": "code",
        "colab": {}
      },
      "source": [
        "!ls -lh"
      ],
      "execution_count": 0,
      "outputs": []
    },
    {
      "cell_type": "markdown",
      "metadata": {
        "id": "mKZ1ategC76m",
        "colab_type": "text"
      },
      "source": [
        "  Notice that now the output of `ls` includes the `my_dir` command."
      ]
    },
    {
      "cell_type": "code",
      "metadata": {
        "id": "JhOhWaFEEqrk",
        "colab_type": "code",
        "colab": {}
      },
      "source": [
        "!cd my_dir"
      ],
      "execution_count": 0,
      "outputs": []
    },
    {
      "cell_type": "markdown",
      "metadata": {
        "id": "2oRJ3xPKEsx6",
        "colab_type": "text"
      },
      "source": [
        "The `cd <name>` command changes the present working directory to the one specified by `<name>`.  When you ran the command it did not report any errors but it also did not update the present working directory of the notebook. "
      ]
    },
    {
      "cell_type": "code",
      "metadata": {
        "id": "aCmrF6svE7yY",
        "colab_type": "code",
        "colab": {}
      },
      "source": [
        "!pwd"
      ],
      "execution_count": 0,
      "outputs": []
    },
    {
      "cell_type": "markdown",
      "metadata": {
        "id": "YIi6lMIXFlNI",
        "colab_type": "text"
      },
      "source": [
        "Notice that `pwd` returned the same present working directory as at the previous time when you ran the same command. So did `cd` fail quietly? \n",
        "\n",
        "No. The issue is due to the use of the `!` magic which launches a subprocess from the notebook environment and cleans up any changes once the subprocess completes. Using the `%%bash` magic instead allows you to sequence multiple shell commands within the same process, using the same state from one command to the next. \n",
        "\n"
      ]
    },
    {
      "cell_type": "code",
      "metadata": {
        "id": "VO3yOcGbGsni",
        "colab_type": "code",
        "colab": {}
      },
      "source": [
        "%%bash\n",
        "cd my_dir\n",
        "pwd"
      ],
      "execution_count": 0,
      "outputs": []
    },
    {
      "cell_type": "markdown",
      "metadata": {
        "id": "jO9w4M1TGxTa",
        "colab_type": "text"
      },
      "source": [
        "The last `pwd` correctly shows `my_dir` as the present working directory. "
      ]
    },
    {
      "cell_type": "markdown",
      "metadata": {
        "id": "-a4xSzICX6Uw",
        "colab_type": "text"
      },
      "source": [
        "Of course you can access files anywhere in the file system using fully qualified path, which starts with the `/` character. Here's an example where you use the `cat` command to output the contents of an existing file on the file system. In this case, `/etc/os-release` is the path to a file that contains the details of the Linux operating system used by your server."
      ]
    },
    {
      "cell_type": "code",
      "metadata": {
        "id": "2elcDJUE89Ad",
        "colab_type": "code",
        "colab": {}
      },
      "source": [
        "!cat /etc/os-release"
      ],
      "execution_count": 0,
      "outputs": []
    },
    {
      "cell_type": "markdown",
      "metadata": {
        "id": "jxpWaVaqZHTn",
        "colab_type": "text"
      },
      "source": [
        "To create a file with your content, you have several options. The easiest to use is the `%%writefile` magic shown in the next cell."
      ]
    },
    {
      "cell_type": "code",
      "metadata": {
        "id": "DGTC33ROZEfN",
        "colab_type": "code",
        "colab": {}
      },
      "source": [
        "%%writefile my_dir/shapes\n",
        "Square\n",
        "Triangle\n",
        "Rectangle\n",
        "Pentagon\n",
        "Parallelogram"
      ],
      "execution_count": 0,
      "outputs": []
    },
    {
      "cell_type": "markdown",
      "metadata": {
        "id": "Huw_omwNZfAv",
        "colab_type": "text"
      },
      "source": [
        "To confirm that the file was written correctly you can use the `cat` command again."
      ]
    },
    {
      "cell_type": "code",
      "metadata": {
        "id": "mPVN-IKKZdmm",
        "colab_type": "code",
        "colab": {}
      },
      "source": [
        "!cat my_dir/shapes"
      ],
      "execution_count": 0,
      "outputs": []
    },
    {
      "cell_type": "markdown",
      "metadata": {
        "id": "R3Ptgpn3ZqCf",
        "colab_type": "text"
      },
      "source": [
        "If you need to write a file from command line, you can use the `echo` command which is similar to `print` in other languages. By default, `echo` will output to the screen, so to create a file from the output of the `echo`, you need to use the `>` operation which \"redirects\" the output to a file. Note that when using `>`, if the destination file exists, it is replaced with the output of the `echo` command.  In the next cell, both the `echo` and the `cat` operations are combined within the same script. "
      ]
    },
    {
      "cell_type": "code",
      "metadata": {
        "id": "DUnB2PzGZn2x",
        "colab_type": "code",
        "colab": {}
      },
      "source": [
        "%%bash\n",
        "echo \"\n",
        "Cube\n",
        "Cone\n",
        "Prism\n",
        "Mobius Strip\" > my_dir/shapes\n",
        "\n",
        "cat my_dir/shapes"
      ],
      "execution_count": 0,
      "outputs": []
    },
    {
      "cell_type": "markdown",
      "metadata": {
        "id": "8Mbu1t3SbC3H",
        "colab_type": "text"
      },
      "source": [
        "Occasionally you may need to create an empty file, or simply update the timestamp on an existing file without any modifications. Linux has a dedicated command to do just that, called `touch`"
      ]
    },
    {
      "cell_type": "code",
      "metadata": {
        "id": "gViPKCeBbBok",
        "colab_type": "code",
        "colab": {}
      },
      "source": [
        "%%bash\n",
        "touch my_dir/empty\n",
        "ls -lh my_dir/empty"
      ],
      "execution_count": 0,
      "outputs": []
    },
    {
      "cell_type": "markdown",
      "metadata": {
        "id": "id5y4zprjpHD",
        "colab_type": "text"
      },
      "source": [
        "As expected, the detailed file listing reports that the `empty` file has a size of zero bytes.\n",
        "\n",
        "In addition to replacing existing files, you may want to use the output of the `echo` command to append new lines to an existing file. This is done using the `>>` operator."
      ]
    },
    {
      "cell_type": "code",
      "metadata": {
        "id": "6zzM2RsRj4Kw",
        "colab_type": "code",
        "colab": {}
      },
      "source": [
        "!echo \"Klein Bottle\" >> my_dir/shapes\n",
        "!cat my_dir/shapes"
      ],
      "execution_count": 0,
      "outputs": []
    },
    {
      "cell_type": "markdown",
      "metadata": {
        "id": "NYcwg2DgbX7d",
        "colab_type": "text"
      },
      "source": [
        "\n",
        "In addition to listing files using the `ls` command, you need to be familiar with `find`, which allows you to output a flat list of filenames for a directory. Since `find` automatically descends into subdirectories, it makes it easier to get a sense of complex file structures like those used by Git directories. "
      ]
    },
    {
      "cell_type": "code",
      "metadata": {
        "id": "Ro59Xe0tamA_",
        "colab_type": "code",
        "colab": {}
      },
      "source": [
        "!find ."
      ],
      "execution_count": 0,
      "outputs": []
    },
    {
      "cell_type": "markdown",
      "metadata": {
        "id": "O6eZIlsLgs1M",
        "colab_type": "text"
      },
      "source": [
        "Copyright 2019 CounterFactual.AI LLC. Licensed under the Apache License, Version 2.0 (the \"License\"); you may not use this file except in compliance with the License. You may obtain a copy of the License at http://www.apache.org/licenses/LICENSE-2.0 Unless required by applicable law or agreed to in writing, software distributed under the License is distributed on an \"AS IS\" BASIS, WITHOUT WARRANTIES OR CONDITIONS OF ANY KIND, either express or implied. See the License for the specific language governing permissions and limitations under the License"
      ]
    }
  ]
}