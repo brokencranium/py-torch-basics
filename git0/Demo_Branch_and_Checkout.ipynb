{
  "nbformat": 4,
  "nbformat_minor": 0,
  "metadata": {
    "kernelspec": {
      "display_name": "Python 3",
      "language": "python",
      "name": "python3"
    },
    "language_info": {
      "codemirror_mode": {
        "name": "ipython",
        "version": 3
      },
      "file_extension": ".py",
      "mimetype": "text/x-python",
      "name": "python",
      "nbconvert_exporter": "python",
      "pygments_lexer": "ipython3",
      "version": "3.7.3"
    },
    "colab": {
      "name": "Demo - Branch and Checkout.ipynb",
      "provenance": [],
      "collapsed_sections": []
    }
  },
  "cells": [
    {
      "cell_type": "markdown",
      "metadata": {
        "id": "zSb102MO58ay",
        "colab_type": "text"
      },
      "source": [
        "<h1>Branch and Checkout</h1>"
      ]
    },
    {
      "cell_type": "markdown",
      "metadata": {
        "id": "6zzZyqHP54zO",
        "colab_type": "text"
      },
      "source": [
        "This demonstration shows how to get started with creating Git branches and how to switch safely between different branches during the course of a development workflow. You will also practice Git user configuration.\n",
        "\n",
        "Start by creating a Git repository for this demonstration."
      ]
    },
    {
      "cell_type": "code",
      "metadata": {
        "id": "-vZpAgUZ54zP",
        "colab_type": "code",
        "colab": {}
      },
      "source": [
        "!git init branches_repo"
      ],
      "execution_count": 0,
      "outputs": []
    },
    {
      "cell_type": "markdown",
      "metadata": {
        "id": "Tl7xvRLT54zT",
        "colab_type": "text"
      },
      "source": [
        "Bill Lumbergh is the fictional Business Leader persona for this demonstration. Git is so easy to learn that even a business leader can figure it out! \n",
        "\n",
        "Git user email and name should be configured for Bill."
      ]
    },
    {
      "cell_type": "code",
      "metadata": {
        "id": "C1EeBy2654zU",
        "colab_type": "code",
        "colab": {}
      },
      "source": [
        "%%bash\n",
        "git config --global user.email \"bill@initech.com\"\n",
        "git config --global user.name \"Bill Lumbergh\"\n",
        "git config --list"
      ],
      "execution_count": 0,
      "outputs": []
    },
    {
      "cell_type": "markdown",
      "metadata": {
        "id": "WeoP0Ozr54zW",
        "colab_type": "text"
      },
      "source": [
        "The `%cd` magic changes the current directory (i.e. the working directory) of the notebook to ` branches_repo`"
      ]
    },
    {
      "cell_type": "code",
      "metadata": {
        "id": "rGv1ShU354zX",
        "colab_type": "code",
        "colab": {}
      },
      "source": [
        "%cd branches_repo"
      ],
      "execution_count": 0,
      "outputs": []
    },
    {
      "cell_type": "markdown",
      "metadata": {
        "id": "5qmhI8vO54zZ",
        "colab_type": "text"
      },
      "source": [
        "The business leader does not have the detailed specification for the various shapes that should be part of the project. The shapes file will contain a rough draft of the first revision of the shapes."
      ]
    },
    {
      "cell_type": "code",
      "metadata": {
        "id": "Ror71BMs54za",
        "colab_type": "code",
        "colab": {}
      },
      "source": [
        "%%writefile shapes\n",
        "Pointy\n",
        "Blocky\n",
        "Curvy\n",
        "\n"
      ],
      "execution_count": 0,
      "outputs": []
    },
    {
      "cell_type": "markdown",
      "metadata": {
        "id": "2vBQpQqZ54zc",
        "colab_type": "text"
      },
      "source": [
        "After the shapes are stored in the `shapes` file, they needed to be committed to the Git repository."
      ]
    },
    {
      "cell_type": "code",
      "metadata": {
        "id": "PmhKrR2854zd",
        "colab_type": "code",
        "colab": {}
      },
      "source": [
        "%%bash\n",
        "git add shapes\n",
        "git status\n",
        "git commit -m 'strategically important shapes'\n",
        "git log"
      ],
      "execution_count": 0,
      "outputs": []
    },
    {
      "cell_type": "markdown",
      "metadata": {
        "id": "NjYo67as54zf",
        "colab_type": "text"
      },
      "source": [
        "Bill will assign further work on the shapes to his developers, Peter Gibbons and Michael Bolton (the latter is not related to the famous singer), who will complete the task of specifying the detailed shapes.\n",
        "\n",
        "Peter and Michael will work on the dedicated `develop` branch."
      ]
    },
    {
      "cell_type": "code",
      "metadata": {
        "id": "fgObjsuT54zg",
        "colab_type": "code",
        "colab": {}
      },
      "source": [
        "!git branch"
      ],
      "execution_count": 0,
      "outputs": []
    },
    {
      "cell_type": "markdown",
      "metadata": {
        "id": "lEuQROIf54zi",
        "colab_type": "text"
      },
      "source": [
        "So far, the `master` branch is the only one that exists in the repository.\n",
        "\n",
        "Using the following command Bill creates a branch for the developers."
      ]
    },
    {
      "cell_type": "code",
      "metadata": {
        "id": "iRF1hBLb54zi",
        "colab_type": "code",
        "colab": {}
      },
      "source": [
        "!git branch develop"
      ],
      "execution_count": 0,
      "outputs": []
    },
    {
      "cell_type": "markdown",
      "metadata": {
        "id": "sBnsnMzz54zl",
        "colab_type": "text"
      },
      "source": [
        "After the `develop` branch exists it must be checked out to replace the tracked files of the working directory with the contents of the branch."
      ]
    },
    {
      "cell_type": "code",
      "metadata": {
        "id": "Pz5nMPKQ54zm",
        "colab_type": "code",
        "colab": {}
      },
      "source": [
        "!git checkout develop"
      ],
      "execution_count": 0,
      "outputs": []
    },
    {
      "cell_type": "code",
      "metadata": {
        "id": "wwv3FsyI54zo",
        "colab_type": "code",
        "colab": {}
      },
      "source": [
        "%%writefile TODO\n",
        "(iss-101): Peter to fix up shapes \n",
        "(iss-102): Michael to add more curvy shapes"
      ],
      "execution_count": 0,
      "outputs": []
    },
    {
      "cell_type": "markdown",
      "metadata": {
        "id": "OjkBGlb654zr",
        "colab_type": "text"
      },
      "source": [
        "In real production scenarios, there are issue or ticket tracking systems that produce unique ID describing the work that should be done by the developers. \n",
        "\n",
        "In this example, to keep things simple, the issues are tracked in a simple TODO file in the `develop` branch. The identifiers `iss-101` and `iss-102` refer to issues or bugfixes that the developers need to resolve."
      ]
    },
    {
      "cell_type": "code",
      "metadata": {
        "id": "2qcsRIVE54zr",
        "colab_type": "code",
        "colab": {}
      },
      "source": [
        "%%bash\n",
        "git add TODO\n",
        "git commit -m 'added TODOs for Michael and Peter'\n",
        "git branch iss-101 \n",
        "git branch iss-102"
      ],
      "execution_count": 0,
      "outputs": []
    },
    {
      "cell_type": "markdown",
      "metadata": {
        "id": "pCjzKFdZ54zt",
        "colab_type": "text"
      },
      "source": [
        "That's just great! The `TODO` file is committed and Bill created the branches for the two issues to be resolved by the developers. Note that the issues are the descendants of the `develop` branch.\n",
        "\n",
        "Suppose the Michael was the first to learn about the issue that was assigned to him. In real development environments, a developer could be notified about changes to a branch via an email or a Slack message."
      ]
    },
    {
      "cell_type": "code",
      "metadata": {
        "id": "i-FwvKMl54zu",
        "colab_type": "code",
        "colab": {}
      },
      "source": [
        "%%bash\n",
        "git config --global user.email \"michael@initech.com\"\n",
        "git config --global user.name \"Michael Bolton\"\n",
        "git config --list"
      ],
      "execution_count": 0,
      "outputs": []
    },
    {
      "cell_type": "markdown",
      "metadata": {
        "id": "rWd9o4Qd54zw",
        "colab_type": "text"
      },
      "source": [
        "As it turns out, Michael was working on his personal TODO file in the working directory."
      ]
    },
    {
      "cell_type": "code",
      "metadata": {
        "id": "5Z3gMyFw54zx",
        "colab_type": "code",
        "colab": {}
      },
      "source": [
        "%%writefile TODO\n",
        "Play a prank on Michael\n",
        "Trash the old printer"
      ],
      "execution_count": 0,
      "outputs": []
    },
    {
      "cell_type": "markdown",
      "metadata": {
        "id": "raxyDSJh54zz",
        "colab_type": "text"
      },
      "source": [
        "Before starting work on a different branch, it is a good idea to check whether any existing work may conflict with the incoming branch."
      ]
    },
    {
      "cell_type": "code",
      "metadata": {
        "id": "1WbpX_SG54z0",
        "colab_type": "code",
        "colab": {}
      },
      "source": [
        "!git status"
      ],
      "execution_count": 0,
      "outputs": []
    },
    {
      "cell_type": "markdown",
      "metadata": {
        "id": "Og8m6l5H54z2",
        "colab_type": "text"
      },
      "source": [
        "Instead of trying to guess whether the local changes are compatible with the branch, it is a good practice for the developer to stash the modified contents of the working directory before checking out a branch."
      ]
    },
    {
      "cell_type": "code",
      "metadata": {
        "id": "mOaMP31554z3",
        "colab_type": "code",
        "colab": {}
      },
      "source": [
        "!git stash"
      ],
      "execution_count": 0,
      "outputs": []
    },
    {
      "cell_type": "markdown",
      "metadata": {
        "id": "IkHpv-dj54z5",
        "colab_type": "text"
      },
      "source": [
        "The `stash` command confirms that local changes were stashed away. They will be restored later in this notebook."
      ]
    },
    {
      "cell_type": "code",
      "metadata": {
        "id": "HTvXVdbl54z6",
        "colab_type": "code",
        "colab": {}
      },
      "source": [
        "!git checkout iss-102"
      ],
      "execution_count": 0,
      "outputs": []
    },
    {
      "cell_type": "markdown",
      "metadata": {
        "id": "aJpnCVUS54z8",
        "colab_type": "text"
      },
      "source": [
        "Here checking out a branch is equivalent to starting work on a specific assigned issue or a TODO.\n",
        "\n",
        "As you recall, checking out a branch also changes the `HEAD` ref to point to the branch."
      ]
    },
    {
      "cell_type": "code",
      "metadata": {
        "id": "gseH6mtp54z9",
        "colab_type": "code",
        "colab": {}
      },
      "source": [
        "!cat .git/HEAD"
      ],
      "execution_count": 0,
      "outputs": []
    },
    {
      "cell_type": "code",
      "metadata": {
        "id": "OIdNOWCV540B",
        "colab_type": "code",
        "colab": {}
      },
      "source": [
        "!cat TODO"
      ],
      "execution_count": 0,
      "outputs": []
    },
    {
      "cell_type": "markdown",
      "metadata": {
        "id": "TQWF87kr540E",
        "colab_type": "text"
      },
      "source": [
        "Since it is Michael's job to add more curvy shapes, he decides to add an ellipse to the list and commit his changes to the issue branch."
      ]
    },
    {
      "cell_type": "code",
      "metadata": {
        "id": "NrODmTzQ540F",
        "colab_type": "code",
        "colab": {}
      },
      "source": [
        "%%bash\n",
        "echo \"Ellipse\" >> shapes\n",
        "cat shapes"
      ],
      "execution_count": 0,
      "outputs": []
    },
    {
      "cell_type": "code",
      "metadata": {
        "id": "R3MLVm2t540H",
        "colab_type": "code",
        "colab": {}
      },
      "source": [
        "%%bash\n",
        "git status\n",
        "git add shapes\n",
        "git commit -m 'added ellipse, more after coffee'"
      ],
      "execution_count": 0,
      "outputs": []
    },
    {
      "cell_type": "markdown",
      "metadata": {
        "id": "aGVUsTAu540J",
        "colab_type": "text"
      },
      "source": [
        "Once he reviewed the output and confirmed that his commit is done, he decides to get back to working on his personal TODOs.\n",
        "\n",
        "The `pop` operation restores the stashed modifications back to the working directory."
      ]
    },
    {
      "cell_type": "code",
      "metadata": {
        "id": "Q_B5fUhA540J",
        "colab_type": "code",
        "colab": {}
      },
      "source": [
        "!git stash pop"
      ],
      "execution_count": 0,
      "outputs": []
    },
    {
      "cell_type": "code",
      "metadata": {
        "id": "qW0XpEZs540M",
        "colab_type": "code",
        "colab": {}
      },
      "source": [
        "!cat TODO"
      ],
      "execution_count": 0,
      "outputs": []
    },
    {
      "cell_type": "markdown",
      "metadata": {
        "id": "mpcl4hCr540O",
        "colab_type": "text"
      },
      "source": [
        "Michael restored his personal TODOs and can continue working on them.\n",
        "\n",
        "In the meantime, Peter, the other developer on the team, started to work on the project."
      ]
    },
    {
      "cell_type": "code",
      "metadata": {
        "id": "i4LhacPz540P",
        "colab_type": "code",
        "colab": {}
      },
      "source": [
        "%%bash\n",
        "git config --global user.email \"peter@initech.com\"\n",
        "git config --global user.name \"Peter Gibbons\"\n",
        "git config --list"
      ],
      "execution_count": 0,
      "outputs": []
    },
    {
      "cell_type": "code",
      "metadata": {
        "id": "9bJqA2GT540R",
        "colab_type": "code",
        "colab": {}
      },
      "source": [
        "!git checkout iss-101"
      ],
      "execution_count": 0,
      "outputs": []
    },
    {
      "cell_type": "code",
      "metadata": {
        "id": "6dUTVOow540U",
        "colab_type": "code",
        "colab": {}
      },
      "source": [
        "!git branch"
      ],
      "execution_count": 0,
      "outputs": []
    },
    {
      "cell_type": "markdown",
      "metadata": {
        "id": "xV9u0eO3-m96",
        "colab_type": "text"
      },
      "source": [
        "Using the `--oneline --graph --decorate --all` options for `git log` is a common way to get the history of a repo that includes complex branching."
      ]
    },
    {
      "cell_type": "code",
      "metadata": {
        "id": "3gD1p18u540W",
        "colab_type": "code",
        "colab": {}
      },
      "source": [
        "!git log --oneline --graph --decorate --all"
      ],
      "execution_count": 0,
      "outputs": []
    },
    {
      "cell_type": "markdown",
      "metadata": {
        "id": "R6zUpUTY-_Po",
        "colab_type": "text"
      },
      "source": [
        "Since Peter and Michael are on the same team, they attend the same stand up style meetings and are aware of each other's tasks. So Peter wants to understand what progress Michael was making on his issue."
      ]
    },
    {
      "cell_type": "code",
      "metadata": {
        "id": "wHnNMyMe540a",
        "colab_type": "code",
        "colab": {}
      },
      "source": [
        "!git diff develop iss-102"
      ],
      "execution_count": 0,
      "outputs": []
    },
    {
      "cell_type": "code",
      "metadata": {
        "id": "ZXQNt7Rn540c",
        "colab_type": "code",
        "colab": {}
      },
      "source": [
        "!cat shapes"
      ],
      "execution_count": 0,
      "outputs": []
    },
    {
      "cell_type": "markdown",
      "metadata": {
        "id": "iUF4anLz_Reb",
        "colab_type": "text"
      },
      "source": [
        "Peter knows that he can simply add his content to the file without having to worry about merges just yet. All of Michael's changes are safe in his issue branch."
      ]
    },
    {
      "cell_type": "code",
      "metadata": {
        "id": "paUHgF5D540e",
        "colab_type": "code",
        "colab": {}
      },
      "source": [
        "%%bash\n",
        "echo \"Triangle\n",
        "Square\" >> shapes\n",
        "git add shapes\n",
        "git commit -m 'added a triangle and a square'"
      ],
      "execution_count": 0,
      "outputs": []
    },
    {
      "cell_type": "markdown",
      "metadata": {
        "id": "icLQjSFg_rQ0",
        "colab_type": "text"
      },
      "source": [
        "Peter is the tech lead on the team, so it is his responsibility to ensure successful integration of changes from the entire team into the `develop` branch. Before he can work on that, he needs to checkout the branch and take a look at the log."
      ]
    },
    {
      "cell_type": "code",
      "metadata": {
        "id": "HkbUlugK540h",
        "colab_type": "code",
        "colab": {}
      },
      "source": [
        "!git checkout develop"
      ],
      "execution_count": 0,
      "outputs": []
    },
    {
      "cell_type": "code",
      "metadata": {
        "id": "PTBCcjq7540j",
        "colab_type": "code",
        "colab": {}
      },
      "source": [
        "!git log --oneline --graph --decorate --all"
      ],
      "execution_count": 0,
      "outputs": []
    },
    {
      "cell_type": "markdown",
      "metadata": {
        "id": "QxAZhcsaAFOv",
        "colab_type": "text"
      },
      "source": [
        "Since Peter has to use the above options for `git log` all the time he sets up an alias for the command."
      ]
    },
    {
      "cell_type": "code",
      "metadata": {
        "id": "rXlVt9qm540m",
        "colab_type": "code",
        "colab": {}
      },
      "source": [
        "!git config --global alias.lol 'log --all --graph --decorate --oneline'\n",
        "!git config --list"
      ],
      "execution_count": 0,
      "outputs": []
    },
    {
      "cell_type": "code",
      "metadata": {
        "id": "S7G-EiNW540p",
        "colab_type": "code",
        "colab": {}
      },
      "source": [
        "!git lol"
      ],
      "execution_count": 0,
      "outputs": []
    },
    {
      "cell_type": "markdown",
      "metadata": {
        "id": "xdJ4LNOrAP3p",
        "colab_type": "text"
      },
      "source": [
        "It is a popular practice to use `lol` but feel free to use whatever alias works best for you!"
      ]
    },
    {
      "cell_type": "markdown",
      "metadata": {
        "id": "-tBLffRrAbbV",
        "colab_type": "text"
      },
      "source": [
        "Copyright 2019 CounterFactual.AI LLC. Licensed under the Apache License, Version 2.0 (the \"License\"); you may not use this file except in compliance with the License. You may obtain a copy of the License at http://www.apache.org/licenses/LICENSE-2.0 Unless required by applicable law or agreed to in writing, software distributed under the License is distributed on an \"AS IS\" BASIS, WITHOUT WARRANTIES OR CONDITIONS OF ANY KIND, either express or implied. See the License for the specific language governing permissions and limitations under the License"
      ]
    }
  ]
}