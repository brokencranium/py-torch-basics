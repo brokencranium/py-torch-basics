{
  "nbformat": 4,
  "nbformat_minor": 0,
  "metadata": {
    "kernelspec": {
      "display_name": "Python 3",
      "language": "python",
      "name": "python3"
    },
    "language_info": {
      "codemirror_mode": {
        "name": "ipython",
        "version": 3
      },
      "file_extension": ".py",
      "mimetype": "text/x-python",
      "name": "python",
      "nbconvert_exporter": "python",
      "pygments_lexer": "ipython3",
      "version": "3.7.3"
    },
    "colab": {
      "name": "Demo - Branch and Rebase.ipynb",
      "provenance": [],
      "collapsed_sections": []
    }
  },
  "cells": [
    {
      "cell_type": "markdown",
      "metadata": {
        "id": "I_C-TcDBZo8p",
        "colab_type": "text"
      },
      "source": [
        "<h1>Branch and Rebase</h1>\n",
        "\n",
        "In this notebook you will work with two separate repositories, one where you will use the `git merge` command and another where you will use `git rebase` command to merge your files. Once both commands complete successfully, you will compare the results across both repositories using `git log`\n",
        "\n",
        "Start by creating a repository where you use the `merge` command"
      ]
    },
    {
      "cell_type": "code",
      "metadata": {
        "id": "rYKEt3WYZo8t",
        "colab_type": "code",
        "colab": {}
      },
      "source": [
        "!git init merge_repo"
      ],
      "execution_count": 0,
      "outputs": []
    },
    {
      "cell_type": "code",
      "metadata": {
        "id": "_R-63IgHZo8y",
        "colab_type": "code",
        "colab": {}
      },
      "source": [
        "%cd merge_repo"
      ],
      "execution_count": 0,
      "outputs": []
    },
    {
      "cell_type": "markdown",
      "metadata": {
        "id": "NcKLow0eZo81",
        "colab_type": "text"
      },
      "source": [
        "The repository will store a list of colors from the business leader."
      ]
    },
    {
      "cell_type": "code",
      "metadata": {
        "id": "1XHi74pyZo82",
        "colab_type": "code",
        "colab": {}
      },
      "source": [
        "%%bash\n",
        "git config --global user.email \"bill@initech.com\"\n",
        "git config --global user.name \"Bill Lumberg\"\n",
        "echo \"Red\n",
        "White\n",
        "Blue\" > colors"
      ],
      "execution_count": 0,
      "outputs": []
    },
    {
      "cell_type": "code",
      "metadata": {
        "id": "DgwZOusXZo86",
        "colab_type": "code",
        "colab": {}
      },
      "source": [
        "%%bash\n",
        "git add colors\n",
        "git commit -m 'initial colors'"
      ],
      "execution_count": 0,
      "outputs": []
    },
    {
      "cell_type": "markdown",
      "metadata": {
        "id": "GdngmkcBZo89",
        "colab_type": "text"
      },
      "source": [
        "In production, you should expect `develop` branch that is separate from `master`. Here, to make the branch tree easier to explain, the issue specific branches are created directly from `master`"
      ]
    },
    {
      "cell_type": "code",
      "metadata": {
        "id": "-VJ1lmTkZo89",
        "colab_type": "code",
        "colab": {}
      },
      "source": [
        "!git branch yellow\n",
        "!git branch green"
      ],
      "execution_count": 0,
      "outputs": []
    },
    {
      "cell_type": "markdown",
      "metadata": {
        "id": "3P27F3bqZo9A",
        "colab_type": "text"
      },
      "source": [
        "One of the developers works on resolving the issue by adding `yellow` to the file."
      ]
    },
    {
      "cell_type": "code",
      "metadata": {
        "id": "RqMoZgAIZo9A",
        "colab_type": "code",
        "colab": {}
      },
      "source": [
        "%%bash\n",
        "git config --global user.email \"peter@initech.com\"\n",
        "git config --global user.name \"Peter Gibbons\""
      ],
      "execution_count": 0,
      "outputs": []
    },
    {
      "cell_type": "code",
      "metadata": {
        "id": "ZCQtUrS4Zo9C",
        "colab_type": "code",
        "colab": {}
      },
      "source": [
        "!git checkout yellow"
      ],
      "execution_count": 0,
      "outputs": []
    },
    {
      "cell_type": "code",
      "metadata": {
        "id": "aK7Ss0eEZo9E",
        "colab_type": "code",
        "colab": {}
      },
      "source": [
        "%%bash\n",
        "echo \"Yellow\" >> colors\n",
        "cat colors"
      ],
      "execution_count": 0,
      "outputs": []
    },
    {
      "cell_type": "code",
      "metadata": {
        "id": "cL7QQcMyZo9H",
        "colab_type": "code",
        "colab": {}
      },
      "source": [
        "!git commit -am 'added yellow'"
      ],
      "execution_count": 0,
      "outputs": []
    },
    {
      "cell_type": "markdown",
      "metadata": {
        "id": "p4Jax6LMZo9J",
        "colab_type": "text"
      },
      "source": [
        "The other developer works on adding color `green`."
      ]
    },
    {
      "cell_type": "code",
      "metadata": {
        "id": "MuYv-WSQZo9K",
        "colab_type": "code",
        "colab": {}
      },
      "source": [
        "%%bash\n",
        "git config --global user.email \"michael@initech.com\"\n",
        "git config --global user.name \"Michael Bolton\""
      ],
      "execution_count": 0,
      "outputs": []
    },
    {
      "cell_type": "code",
      "metadata": {
        "id": "zac0fC7_Zo9M",
        "colab_type": "code",
        "colab": {}
      },
      "source": [
        "!git checkout green"
      ],
      "execution_count": 0,
      "outputs": []
    },
    {
      "cell_type": "code",
      "metadata": {
        "id": "n8ov2zfuZo9O",
        "colab_type": "code",
        "colab": {}
      },
      "source": [
        "%%bash\n",
        "echo \"Green\" >> colors\n",
        "cat colors"
      ],
      "execution_count": 0,
      "outputs": []
    },
    {
      "cell_type": "code",
      "metadata": {
        "id": "jwfm0JkHZo9Q",
        "colab_type": "code",
        "colab": {}
      },
      "source": [
        "!git commit -am 'added green'"
      ],
      "execution_count": 0,
      "outputs": []
    },
    {
      "cell_type": "markdown",
      "metadata": {
        "id": "MFSS7-mnZo9S",
        "colab_type": "text"
      },
      "source": [
        "In the order of the commits, yellow was added first, followed by green. Let's suppose that the results of the `green` branch need to be merged into `yellow` for the latter to be resolved."
      ]
    },
    {
      "cell_type": "code",
      "metadata": {
        "id": "PNE3OfugZo9T",
        "colab_type": "code",
        "colab": {}
      },
      "source": [
        "!git checkout yellow"
      ],
      "execution_count": 0,
      "outputs": []
    },
    {
      "cell_type": "markdown",
      "metadata": {
        "id": "PtNjzh4CZo9V",
        "colab_type": "text"
      },
      "source": [
        "Just confirming the status of `HEAD`, you are on the `yellow` branch, trying to merge the `green` branch files into `yellow`"
      ]
    },
    {
      "cell_type": "code",
      "metadata": {
        "id": "8UtC8wtJZo9V",
        "colab_type": "code",
        "colab": {}
      },
      "source": [
        "!git log --graph --decorate --all --oneline"
      ],
      "execution_count": 0,
      "outputs": []
    },
    {
      "cell_type": "markdown",
      "metadata": {
        "id": "GWEAZUwFZo9X",
        "colab_type": "text"
      },
      "source": [
        "The multiline log also confirms that `yellow` was committed before `green`."
      ]
    },
    {
      "cell_type": "code",
      "metadata": {
        "id": "dD_RRGmoZo9Y",
        "colab_type": "code",
        "colab": {}
      },
      "source": [
        "!git log --graph --decorate --all"
      ],
      "execution_count": 0,
      "outputs": []
    },
    {
      "cell_type": "markdown",
      "metadata": {
        "id": "A-X6NFibZo9a",
        "colab_type": "text"
      },
      "source": [
        "Since the are no untracked files and you just checked out `yellow`, the output of the `status` command confirms that the working tree is clean"
      ]
    },
    {
      "cell_type": "code",
      "metadata": {
        "id": "9wDPqcFJZo9b",
        "colab_type": "code",
        "colab": {}
      },
      "source": [
        "!git status"
      ],
      "execution_count": 0,
      "outputs": []
    },
    {
      "cell_type": "markdown",
      "metadata": {
        "id": "znbNMKeiZo9g",
        "colab_type": "text"
      },
      "source": [
        "The recursive (three way) merge is expected to result in a conflict since the same lines of the `colors` file were modified in both the `yellow` and the `green` branches."
      ]
    },
    {
      "cell_type": "code",
      "metadata": {
        "id": "Wvofx7urZo9h",
        "colab_type": "code",
        "colab": {}
      },
      "source": [
        "!git merge green"
      ],
      "execution_count": 0,
      "outputs": []
    },
    {
      "cell_type": "code",
      "metadata": {
        "id": "yoqy8Y_NZo9k",
        "colab_type": "code",
        "colab": {}
      },
      "source": [
        "!cat colors"
      ],
      "execution_count": 0,
      "outputs": []
    },
    {
      "cell_type": "markdown",
      "metadata": {
        "id": "kHjmW-76Zo9m",
        "colab_type": "text"
      },
      "source": [
        "At this point, the developer working on the merge must choose from one of the three options:\n",
        "* pick the  lines from `HEAD` (i.e. `yellow`)\n",
        "* pick the lines from `green`\n",
        "* combine the lines from both `HEAD` and `green`\n",
        "\n",
        "If the developer does not know who worked on a specific issue, it is possible to use `git blame` to find out who committed conflicting changes."
      ]
    },
    {
      "cell_type": "code",
      "metadata": {
        "id": "3q70qdKjZo9m",
        "colab_type": "code",
        "colab": {}
      },
      "source": [
        "!git blame colors"
      ],
      "execution_count": 0,
      "outputs": []
    },
    {
      "cell_type": "markdown",
      "metadata": {
        "id": "hTFA48bYZo9p",
        "colab_type": "text"
      },
      "source": [
        "At this point the developer should know that both `yellow` and `green` issues tried to add colors to the file, so the right option is to combine the results. "
      ]
    },
    {
      "cell_type": "code",
      "metadata": {
        "id": "nhkAfSKkZo9q",
        "colab_type": "code",
        "colab": {}
      },
      "source": [
        "%%writefile colors\n",
        "Red\n",
        "White\n",
        "Blue\n",
        "Yellow\n",
        "Green"
      ],
      "execution_count": 0,
      "outputs": []
    },
    {
      "cell_type": "markdown",
      "metadata": {
        "id": "sPjXKfIsZo9t",
        "colab_type": "text"
      },
      "source": [
        "Once the file is modified, it should be re-staged for the commit using either an explicit `git add` or using `git commit -a` option."
      ]
    },
    {
      "cell_type": "code",
      "metadata": {
        "id": "OeuyA41nZo9u",
        "colab_type": "code",
        "colab": {}
      },
      "source": [
        "!git add colors"
      ],
      "execution_count": 0,
      "outputs": []
    },
    {
      "cell_type": "code",
      "metadata": {
        "id": "wzezSkXmZo9w",
        "colab_type": "code",
        "colab": {}
      },
      "source": [
        "!git commit -m 'merged colors'"
      ],
      "execution_count": 0,
      "outputs": []
    },
    {
      "cell_type": "markdown",
      "metadata": {
        "id": "K1GBzu00Zo9y",
        "colab_type": "text"
      },
      "source": [
        "Great! The output of `git log` confirms that the recursive merge completed as expected."
      ]
    },
    {
      "cell_type": "code",
      "metadata": {
        "id": "slQI4-irZo9y",
        "colab_type": "code",
        "colab": {}
      },
      "source": [
        "!git log --graph --decorate --all"
      ],
      "execution_count": 0,
      "outputs": []
    },
    {
      "cell_type": "markdown",
      "metadata": {
        "id": "6NBVEh7aZo90",
        "colab_type": "text"
      },
      "source": [
        "The branching structure created using recursive merge maintains detailed records of the merge order. Detailed records are valuable for internal development purposes, such as trying to understand the history of the changes, including who made the merges and when. However some branches (e.g. `release`) in Git are used for code distribution to external teams. Having too much detail about recursive merges in a publicly facing branch can be distracting for someone just trying to understand what features were added and when. \n",
        "\n",
        "One of the advantages of `git rebase` is the ability to \"clean up\" the history of a branch."
      ]
    },
    {
      "cell_type": "code",
      "metadata": {
        "id": "w8TRt1RFZo91",
        "colab_type": "code",
        "colab": {}
      },
      "source": [
        "%cd .."
      ],
      "execution_count": 0,
      "outputs": []
    },
    {
      "cell_type": "markdown",
      "metadata": {
        "id": "FNI2_Z0LZo93",
        "colab_type": "text"
      },
      "source": [
        "To start, let's reproduce the state of the `colors` file used in the previous example in a separate repository called `rebase_repo`. The next cell also creates the two issue branches to add yellow and green colors."
      ]
    },
    {
      "cell_type": "code",
      "metadata": {
        "id": "Xb0-ZCBcZo93",
        "colab_type": "code",
        "colab": {}
      },
      "source": [
        "%%bash\n",
        "rm -rf rebase_repo\n",
        "git init rebase_repo\n",
        "cd rebase_repo\n",
        "git config --global user.email \"bill@initech.com\"\n",
        "git config --global user.name \"Bill Lumberg\"\n",
        "echo \"Red\n",
        "White\n",
        "Blue\" > colors\n",
        "git add colors\n",
        "git commit -m 'initial colors'\n",
        "git branch yellow\n",
        "git branch green"
      ],
      "execution_count": 0,
      "outputs": []
    },
    {
      "cell_type": "code",
      "metadata": {
        "id": "auFT_GbCZo96",
        "colab_type": "code",
        "colab": {}
      },
      "source": [
        "%cd rebase_repo"
      ],
      "execution_count": 0,
      "outputs": []
    },
    {
      "cell_type": "markdown",
      "metadata": {
        "id": "C3PQ1RgFZo98",
        "colab_type": "text"
      },
      "source": [
        "Just as in the previous example, the `yellow` issue is resolved first."
      ]
    },
    {
      "cell_type": "code",
      "metadata": {
        "id": "2JUbRSESZo99",
        "colab_type": "code",
        "colab": {}
      },
      "source": [
        "%%bash\n",
        "git config --global user.email \"peter@initech.com\"\n",
        "git config --global user.name \"Peter Gibbons\""
      ],
      "execution_count": 0,
      "outputs": []
    },
    {
      "cell_type": "code",
      "metadata": {
        "id": "xu6VK_XjZo-D",
        "colab_type": "code",
        "colab": {}
      },
      "source": [
        "!git checkout yellow"
      ],
      "execution_count": 0,
      "outputs": []
    },
    {
      "cell_type": "code",
      "metadata": {
        "id": "gPKVOjavZo-F",
        "colab_type": "code",
        "colab": {}
      },
      "source": [
        "%%bash\n",
        "echo \"Yellow\" >> colors\n",
        "cat colors"
      ],
      "execution_count": 0,
      "outputs": []
    },
    {
      "cell_type": "code",
      "metadata": {
        "id": "d5JmFfBdZo-H",
        "colab_type": "code",
        "colab": {}
      },
      "source": [
        "!git commit -am 'added yellow'"
      ],
      "execution_count": 0,
      "outputs": []
    },
    {
      "cell_type": "markdown",
      "metadata": {
        "id": "MmOlyz8FZo-J",
        "colab_type": "text"
      },
      "source": [
        "Followed by the resolution of the `green` issue."
      ]
    },
    {
      "cell_type": "code",
      "metadata": {
        "id": "ZoyCNvAVZo-J",
        "colab_type": "code",
        "colab": {}
      },
      "source": [
        "%%bash\n",
        "git config --global user.email \"michael@initech.com\"\n",
        "git config --global user.name \"Michael Bolton\""
      ],
      "execution_count": 0,
      "outputs": []
    },
    {
      "cell_type": "code",
      "metadata": {
        "id": "jQNnVkFTZo-K",
        "colab_type": "code",
        "colab": {}
      },
      "source": [
        "!git checkout green"
      ],
      "execution_count": 0,
      "outputs": []
    },
    {
      "cell_type": "code",
      "metadata": {
        "id": "WwN_4sMDZo-M",
        "colab_type": "code",
        "colab": {}
      },
      "source": [
        "%%bash\n",
        "echo \"Green\" >> colors\n",
        "cat colors "
      ],
      "execution_count": 0,
      "outputs": []
    },
    {
      "cell_type": "code",
      "metadata": {
        "id": "ecaQz6iiZo-P",
        "colab_type": "code",
        "colab": {}
      },
      "source": [
        "!git commit -am 'added green'"
      ],
      "execution_count": 0,
      "outputs": []
    },
    {
      "cell_type": "code",
      "metadata": {
        "id": "WQV1jtT2Zo-S",
        "colab_type": "code",
        "colab": {}
      },
      "source": [
        "!git checkout yellow"
      ],
      "execution_count": 0,
      "outputs": []
    },
    {
      "cell_type": "code",
      "metadata": {
        "id": "FVoM8QqOZo-U",
        "colab_type": "code",
        "colab": {}
      },
      "source": [
        "!git log --graph --decorate --all --oneline"
      ],
      "execution_count": 0,
      "outputs": []
    },
    {
      "cell_type": "code",
      "metadata": {
        "id": "csq8NoFSZo-W",
        "colab_type": "code",
        "colab": {}
      },
      "source": [
        "!git status"
      ],
      "execution_count": 0,
      "outputs": []
    },
    {
      "cell_type": "markdown",
      "metadata": {
        "id": "bx4-C16IZo-Y",
        "colab_type": "text"
      },
      "source": [
        "At this point, the state of this repo is identical to the state of the repo in the previous example.\n",
        "\n",
        "Notice that the next cell is using `git rebase` instead of `git merge` that you have seen earlier. Remember that by default the rebase operation assumes that the rebase should done to the `HEAD`. In other words `git rebase <what> <to> ` uses `HEAD` as the default value of `<to>` unless another branch or a commit is specified explicitly as an argument to the `rebase` command."
      ]
    },
    {
      "cell_type": "code",
      "metadata": {
        "id": "0UnI--ZsZo-Z",
        "colab_type": "code",
        "colab": {}
      },
      "source": [
        "!git rebase green"
      ],
      "execution_count": 0,
      "outputs": []
    },
    {
      "cell_type": "markdown",
      "metadata": {
        "id": "iX8fWh0bZo-a",
        "colab_type": "text"
      },
      "source": [
        "Not surprisingly, the rebase results in a merge conflict because the same lines were modified in the `colors` file across the `yellow` and `green` branches."
      ]
    },
    {
      "cell_type": "code",
      "metadata": {
        "id": "NFevtbAkZo-b",
        "colab_type": "code",
        "colab": {}
      },
      "source": [
        "!cat colors"
      ],
      "execution_count": 0,
      "outputs": []
    },
    {
      "cell_type": "markdown",
      "metadata": {
        "id": "McySoSR9Zo-c",
        "colab_type": "text"
      },
      "source": [
        "Just as in the last example, the merge conflict is resolved by using all the lines from all the modifications to the colors file."
      ]
    },
    {
      "cell_type": "code",
      "metadata": {
        "id": "htllSs2mZo-d",
        "colab_type": "code",
        "colab": {}
      },
      "source": [
        "%%writefile colors\n",
        "Red\n",
        "White\n",
        "Blue\n",
        "Yellow\n",
        "Green"
      ],
      "execution_count": 0,
      "outputs": []
    },
    {
      "cell_type": "markdown",
      "metadata": {
        "id": "8y0pzuHDZo-g",
        "colab_type": "text"
      },
      "source": [
        "Before a rebase can complete, the modified files must be re-staged."
      ]
    },
    {
      "cell_type": "code",
      "metadata": {
        "id": "1A0mtFshZo-h",
        "colab_type": "code",
        "colab": {}
      },
      "source": [
        "!git add colors"
      ],
      "execution_count": 0,
      "outputs": []
    },
    {
      "cell_type": "markdown",
      "metadata": {
        "id": "M3A61yntZo-k",
        "colab_type": "text"
      },
      "source": [
        "To complete the rebase use the `continue` argument as in the next cell."
      ]
    },
    {
      "cell_type": "code",
      "metadata": {
        "id": "m2LKok8tZo-l",
        "colab_type": "code",
        "colab": {}
      },
      "source": [
        "!git rebase --continue"
      ],
      "execution_count": 0,
      "outputs": []
    },
    {
      "cell_type": "markdown",
      "metadata": {
        "id": "pAI9gxrGZo-m",
        "colab_type": "text"
      },
      "source": [
        "Note the linear and ordered structure of the resulting `git log` and compare that to the detailed branching history of the example where you used the `git merge` operation."
      ]
    },
    {
      "cell_type": "code",
      "metadata": {
        "id": "laLYNNELZo-n",
        "colab_type": "code",
        "colab": {}
      },
      "source": [
        "%cd ../rebase_repo\n",
        "!git log --graph --decorate --all --oneline"
      ],
      "execution_count": 0,
      "outputs": []
    },
    {
      "cell_type": "code",
      "metadata": {
        "id": "pHKSFjEFZo-p",
        "colab_type": "code",
        "colab": {}
      },
      "source": [
        "%cd ../merge_repo\n",
        "!git log --graph --decorate --all --oneline"
      ],
      "execution_count": 0,
      "outputs": []
    },
    {
      "cell_type": "markdown",
      "metadata": {
        "id": "lPGZlguuZo-q",
        "colab_type": "text"
      },
      "source": [
        "You might expect that the order of the log is also the chronological order of the commits. The `rebase` log can be misleading. Take a look at the timestamps in the merge log, and notice that it correctly preserves the details of the changes. Although the `merge` log is more difficult to understand, it is more accurate."
      ]
    },
    {
      "cell_type": "code",
      "metadata": {
        "id": "TENZZv9iZo-r",
        "colab_type": "code",
        "colab": {}
      },
      "source": [
        "%cd ../merge_repo\n",
        "!git log --graph --decorate --all"
      ],
      "execution_count": 0,
      "outputs": []
    },
    {
      "cell_type": "markdown",
      "metadata": {
        "id": "XZBgGZ8sZo-s",
        "colab_type": "text"
      },
      "source": [
        "In contrast, the \"cleaned up\" history in the `rebase` log reports that the resolution of the `yellow` branch happened after the resolution of the `green` branch. However checking the stamps shows that not to be the case."
      ]
    },
    {
      "cell_type": "code",
      "metadata": {
        "id": "M8u4DFELZo-t",
        "colab_type": "code",
        "colab": {}
      },
      "source": [
        "%cd ../rebase_repo\n",
        "!git log --graph --decorate --all"
      ],
      "execution_count": 0,
      "outputs": []
    },
    {
      "cell_type": "markdown",
      "metadata": {
        "id": "neGvlx9jbEiM",
        "colab_type": "text"
      },
      "source": [
        "Copyright 2019 CounterFactual.AI LLC. Licensed under the Apache License, Version 2.0 (the \"License\"); you may not use this file except in compliance with the License. You may obtain a copy of the License at http://www.apache.org/licenses/LICENSE-2.0 Unless required by applicable law or agreed to in writing, software distributed under the License is distributed on an \"AS IS\" BASIS, WITHOUT WARRANTIES OR CONDITIONS OF ANY KIND, either express or implied. See the License for the specific language governing permissions and limitations under the License"
      ]
    }
  ]
}