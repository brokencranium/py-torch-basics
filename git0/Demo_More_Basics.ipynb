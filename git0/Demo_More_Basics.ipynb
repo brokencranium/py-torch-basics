{
  "nbformat": 4,
  "nbformat_minor": 0,
  "metadata": {
    "kernelspec": {
      "display_name": "Python 3",
      "language": "python",
      "name": "python3"
    },
    "language_info": {
      "codemirror_mode": {
        "name": "ipython",
        "version": 3
      },
      "file_extension": ".py",
      "mimetype": "text/x-python",
      "name": "python",
      "nbconvert_exporter": "python",
      "pygments_lexer": "ipython3",
      "version": "3.7.3"
    },
    "colab": {
      "name": "Demo - More Basics.ipynb",
      "provenance": [],
      "collapsed_sections": []
    }
  },
  "cells": [
    {
      "cell_type": "markdown",
      "metadata": {
        "id": "oa6yUtphv069",
        "colab_type": "text"
      },
      "source": [
        "<h1>More Basics of Using Git</h1>\n",
        "\n",
        "Learn about removing files, using .gitignore, and forced commits.\n",
        "\n",
        "To start, lets initialize an empty repository and add some sample files to it. In the spirit of keeping the example as simple as possible but no simplier the two files will list different colors and shapes."
      ]
    },
    {
      "cell_type": "code",
      "metadata": {
        "id": "1AXA0pL_v07A",
        "colab_type": "code",
        "colab": {}
      },
      "source": [
        "%%bash\n",
        "git config --global user.email \"peter@initech.com\"\n",
        "git config --global user.name \"Peter Gibbons\"\n",
        "\n",
        "git init more_basics_repo\n",
        "echo \"Red\n",
        "White\n",
        "Blue\n",
        "Green\n",
        "Orange\" > more_basics_repo/colors\n",
        "\n",
        "echo \"Square\n",
        "Triangle\n",
        "Rectangle\n",
        "Diamond\n",
        "Pentagon\" > more_basics_repo/shapes"
      ],
      "execution_count": 0,
      "outputs": []
    },
    {
      "cell_type": "code",
      "metadata": {
        "id": "Wr6HJOQfv07F",
        "colab_type": "code",
        "colab": {}
      },
      "source": [
        "%cd more_basics_repo"
      ],
      "execution_count": 0,
      "outputs": []
    },
    {
      "cell_type": "code",
      "metadata": {
        "id": "Kk0vbhdOv07M",
        "colab_type": "code",
        "colab": {}
      },
      "source": [
        "!ls -lh"
      ],
      "execution_count": 0,
      "outputs": []
    },
    {
      "cell_type": "markdown",
      "metadata": {
        "id": "2XSLKGA6v07O",
        "colab_type": "text"
      },
      "source": [
        "**Note** that the `add` operation is transactional meaning that the entire operation has to succeed: otherwise the entire operation fails. In the next command, the `shapes` file is incorrectly spelled as `shape`. Hence the staging operation fails. You can confirm that by running the `status` in the following cell"
      ]
    },
    {
      "cell_type": "code",
      "metadata": {
        "id": "DItNbEkFv07P",
        "colab_type": "code",
        "colab": {}
      },
      "source": [
        "!git add colors shape"
      ],
      "execution_count": 0,
      "outputs": []
    },
    {
      "cell_type": "code",
      "metadata": {
        "id": "3xPLUXKuv07S",
        "colab_type": "code",
        "colab": {}
      },
      "source": [
        "!git status"
      ],
      "execution_count": 0,
      "outputs": []
    },
    {
      "cell_type": "markdown",
      "metadata": {
        "id": "4ez7nuLUv07U",
        "colab_type": "text"
      },
      "source": [
        "As expected, the files are still not staged. Let's fix the spelling error in the following cell."
      ]
    },
    {
      "cell_type": "code",
      "metadata": {
        "id": "OVKo8DOSv07V",
        "colab_type": "code",
        "colab": {}
      },
      "source": [
        "!git add colors"
      ],
      "execution_count": 0,
      "outputs": []
    },
    {
      "cell_type": "markdown",
      "metadata": {
        "id": "xBdOhdtAv07Y",
        "colab_type": "text"
      },
      "source": [
        "To remove a file from your repository you should use the `git rm` command. It includes a safety check to prevent you from losing data. The check is not available if you use the default Linux `rm`.\n",
        "\n",
        "Try modifying one of the staged files before removing it."
      ]
    },
    {
      "cell_type": "code",
      "metadata": {
        "id": "LZzBBWXJv07Z",
        "colab_type": "code",
        "colab": {}
      },
      "source": [
        "%%bash\n",
        "echo \"Aquamarine\" >> colors\n",
        "cat colors"
      ],
      "execution_count": 0,
      "outputs": []
    },
    {
      "cell_type": "code",
      "metadata": {
        "id": "nA2AG_yKv07b",
        "colab_type": "code",
        "colab": {}
      },
      "source": [
        "!git rm colors"
      ],
      "execution_count": 0,
      "outputs": []
    },
    {
      "cell_type": "markdown",
      "metadata": {
        "id": "Tvu1Y4Evv07e",
        "colab_type": "text"
      },
      "source": [
        "The `git rm` command in the previous cell failed because it attempted to remove a modified file. Git rejected the attempt to delete the file to ensure that in the case you have made some valuable contributions to the file, they will not accidentally get erased. As the error message suggests, you can override the default behavior using the `-f` option, which should be used judiciously.\n",
        "\n",
        "Instead, if you wish to preserve the changes, you should ensure that you first commit all modified files and then remove files from the working directory."
      ]
    },
    {
      "cell_type": "code",
      "metadata": {
        "id": "qkOnUH55v07e",
        "colab_type": "code",
        "colab": {}
      },
      "source": [
        "%%bash\n",
        "git add colors\n",
        "git commit -m 'added aquamarine color'"
      ],
      "execution_count": 0,
      "outputs": []
    },
    {
      "cell_type": "markdown",
      "metadata": {
        "id": "jOBrfv_axqpR",
        "colab_type": "text"
      },
      "source": [
        "We forgot to commit the `shapes` file! No worries, this happens to everyone. Instead of creating a brand new commit, Git will let you `commit --amend` changing the commit references so that the amended commit appears in place of the previous one."
      ]
    },
    {
      "cell_type": "code",
      "metadata": {
        "id": "Q4fdsKDCxp3J",
        "colab_type": "code",
        "colab": {}
      },
      "source": [
        "!git add shapes\n",
        "!git commit --amend -m 'added colors AND shapes'"
      ],
      "execution_count": 0,
      "outputs": []
    },
    {
      "cell_type": "markdown",
      "metadata": {
        "id": "gnDnZx4Cy9wv",
        "colab_type": "text"
      },
      "source": [
        "Since changes to `colors` have been committed, you can easily remove the file in the next commit."
      ]
    },
    {
      "cell_type": "code",
      "metadata": {
        "id": "4QRgzHxvv07h",
        "colab_type": "code",
        "colab": {}
      },
      "source": [
        "!git rm colors"
      ],
      "execution_count": 0,
      "outputs": []
    },
    {
      "cell_type": "code",
      "metadata": {
        "id": "-CGBh1f9v07j",
        "colab_type": "code",
        "colab": {}
      },
      "source": [
        "!git status"
      ],
      "execution_count": 0,
      "outputs": []
    },
    {
      "cell_type": "markdown",
      "metadata": {
        "id": "h3dRLsiSv07l",
        "colab_type": "text"
      },
      "source": [
        "At this point, `status` confirms that the file is staged for deletion. \n",
        "\n",
        "You may have already realized that removing, renaming, and then adding a file amounts to the rename operation in git. In fact, `git rm` is a shortcut for these three separate operations. You can try it out in the following cell with the `shapes` file."
      ]
    },
    {
      "cell_type": "code",
      "metadata": {
        "id": "kUUwE0Ynv07m",
        "colab_type": "code",
        "colab": {}
      },
      "source": [
        "!git mv shapes 2d_shapes"
      ],
      "execution_count": 0,
      "outputs": []
    },
    {
      "cell_type": "code",
      "metadata": {
        "id": "9JZvEKG5v07s",
        "colab_type": "code",
        "colab": {}
      },
      "source": [
        "!git status"
      ],
      "execution_count": 0,
      "outputs": []
    },
    {
      "cell_type": "markdown",
      "metadata": {
        "id": "Ae40EYcgv07u",
        "colab_type": "text"
      },
      "source": [
        "Since `mv` amounts to the sequence of `rm`, `mv`, and `add`, git does not use any specialized data structures to track file renames. Instead, the rename is detected algorithmicaly in the case where the object's hash  maps to a different file name in staging or in a commit."
      ]
    },
    {
      "cell_type": "code",
      "metadata": {
        "id": "1uuTu_zZv07v",
        "colab_type": "code",
        "colab": {}
      },
      "source": [
        "!git commit -m 'dropped colors and renamed shapes'"
      ],
      "execution_count": 0,
      "outputs": []
    },
    {
      "cell_type": "code",
      "metadata": {
        "id": "eqLBOmGEv07y",
        "colab_type": "code",
        "colab": {}
      },
      "source": [
        "!git log"
      ],
      "execution_count": 0,
      "outputs": []
    },
    {
      "cell_type": "code",
      "metadata": {
        "id": "MKgxHKslv070",
        "colab_type": "code",
        "colab": {}
      },
      "source": [
        "!ls -lh"
      ],
      "execution_count": 0,
      "outputs": []
    },
    {
      "cell_type": "markdown",
      "metadata": {
        "id": "nYT2Uo9Hv077",
        "colab_type": "text"
      },
      "source": [
        "Occasionally, you may want to keep files in your working directory that should never be tracked by git. To do that, you can create a `.gitignore` file, which specifies the paths to the files that should not be tracked, one path per line of .gitignore.\n",
        "\n",
        "Notice that if you re-create the colors file, it will show up as untracked in the git status."
      ]
    },
    {
      "cell_type": "code",
      "metadata": {
        "id": "1-7d-9Ekv078",
        "colab_type": "code",
        "colab": {}
      },
      "source": [
        "%%writefile colors\n",
        "Red\n",
        "White\n",
        "Blue"
      ],
      "execution_count": 0,
      "outputs": []
    },
    {
      "cell_type": "code",
      "metadata": {
        "id": "xDSgWFU3v08A",
        "colab_type": "code",
        "colab": {}
      },
      "source": [
        "!git status"
      ],
      "execution_count": 0,
      "outputs": []
    },
    {
      "cell_type": "code",
      "metadata": {
        "id": "FZpO53gDv08C",
        "colab_type": "code",
        "colab": {}
      },
      "source": [
        "%%writefile .gitignore\n",
        "#ignore colors file in the working directory\n",
        "colors\n",
        "#ignore any files that start with a period\n",
        ".*\n",
        "#ignore any pdf files in the doc directory\n",
        "#that resides under the working directory\n",
        "doc/*.pdf\n",
        "#ignore any files that end with .class \n",
        "#regardless how deep they are relative\n",
        "#to the working directory\n",
        "**/*.class"
      ],
      "execution_count": 0,
      "outputs": []
    },
    {
      "cell_type": "markdown",
      "metadata": {
        "id": "E5PGnvQXv08E",
        "colab_type": "text"
      },
      "source": [
        "However once the colors file is mentioned in the .gitignore, git no longer lists the file as untracked."
      ]
    },
    {
      "cell_type": "code",
      "metadata": {
        "id": "LTerMPo8v08E",
        "colab_type": "code",
        "colab": {}
      },
      "source": [
        "!git status"
      ],
      "execution_count": 0,
      "outputs": []
    },
    {
      "cell_type": "markdown",
      "metadata": {
        "id": "YK9xvT5uv08H",
        "colab_type": "text"
      },
      "source": [
        "The `.gitignore` file can stay local to your working directory, but often you will want to share it with your team. So go ahead, stage, and commit it."
      ]
    },
    {
      "cell_type": "code",
      "metadata": {
        "id": "IZoIDyBKv08H",
        "colab_type": "code",
        "colab": {}
      },
      "source": [
        "%%bash\n",
        "git add .gitignore\n",
        "git commit -m 'add .gitignore'\n",
        "git status"
      ],
      "execution_count": 0,
      "outputs": []
    },
    {
      "cell_type": "markdown",
      "metadata": {
        "id": "tBuSij1nv08J",
        "colab_type": "text"
      },
      "source": [
        "Oh no! There is a conflict between the contents of `.gitignore` and your attempt to commit it to the repo. You can override the .gitignore settings and stage the file using the `add -f` option."
      ]
    },
    {
      "cell_type": "code",
      "metadata": {
        "id": "6bb1qJ3tv08K",
        "colab_type": "code",
        "colab": {}
      },
      "source": [
        "%%bash\n",
        "git add -f .gitignore\n",
        "git commit -m 'force add .gitignore'\n",
        "git status\n",
        "git log"
      ],
      "execution_count": 0,
      "outputs": []
    },
    {
      "cell_type": "markdown",
      "metadata": {
        "id": "tW3bWZSBv08M",
        "colab_type": "text"
      },
      "source": [
        "That worked. The .gitignore file is in the repo and other files that start with a period will not get added to the repo. At least they will not be added without the explicit `-f` option. However, let's say that you are unhappy with your commit message. The wording \"force add .gitignore\" doesn't fully reflect the rationale behind using the `-f` option. Let's say you wish you amend or change your latest commit message. You can easily accomplish that using the `--amend` option as shown in the next cell."
      ]
    },
    {
      "cell_type": "code",
      "metadata": {
        "id": "TBY_a5Gbv08M",
        "colab_type": "code",
        "colab": {}
      },
      "source": [
        "!git commit --amend -m 'force add .gitignore because by default files starting with a period should be ignored'"
      ],
      "execution_count": 0,
      "outputs": []
    },
    {
      "cell_type": "markdown",
      "metadata": {
        "id": "Kfxfz2Vnv08O",
        "colab_type": "text"
      },
      "source": [
        "Suppose you want to have a separate directory for the names of shapes in Spanish. "
      ]
    },
    {
      "cell_type": "code",
      "metadata": {
        "id": "knDeEInbv08O",
        "colab_type": "code",
        "colab": {}
      },
      "source": [
        "!mkdir es\n",
        "!git add es"
      ],
      "execution_count": 0,
      "outputs": []
    },
    {
      "cell_type": "code",
      "metadata": {
        "id": "-grEPumLv08Q",
        "colab_type": "code",
        "colab": {}
      },
      "source": [
        "!git status"
      ],
      "execution_count": 0,
      "outputs": []
    },
    {
      "cell_type": "markdown",
      "metadata": {
        "id": "Cg60U3o7v08T",
        "colab_type": "text"
      },
      "source": [
        "By default, empty directories cannot be staged. However you can work around this issue by placing a gitignore in an empty directory and forcing the file to ignore everything in the directory except the gitignore file. "
      ]
    },
    {
      "cell_type": "code",
      "metadata": {
        "id": "4gS9l5NSv08U",
        "colab_type": "code",
        "colab": {}
      },
      "source": [
        "%%writefile es/.gitignore\n",
        "*\n",
        "!*.gitignore"
      ],
      "execution_count": 0,
      "outputs": []
    },
    {
      "cell_type": "markdown",
      "metadata": {
        "id": "ij6jeazRv08W",
        "colab_type": "text"
      },
      "source": [
        "In the gitignore files, the lines that appear further down have higher precedence in the order of evaluation. As you have probably guessed, the `!*.gitignore` statement could have been used instead of `git add -f` command you used earlier, however you should be familiar with both approaches.\n"
      ]
    },
    {
      "cell_type": "code",
      "metadata": {
        "id": "JVvoe5Byv08X",
        "colab_type": "code",
        "colab": {}
      },
      "source": [
        "!git add es"
      ],
      "execution_count": 0,
      "outputs": []
    },
    {
      "cell_type": "code",
      "metadata": {
        "id": "ZLB0QvRkv08Z",
        "colab_type": "code",
        "colab": {}
      },
      "source": [
        "!git status"
      ],
      "execution_count": 0,
      "outputs": []
    },
    {
      "cell_type": "code",
      "metadata": {
        "id": "4fV1zPtxv08b",
        "colab_type": "code",
        "colab": {}
      },
      "source": [
        "!git commit -m 'added a placeholder for Spanish translations'"
      ],
      "execution_count": 0,
      "outputs": []
    },
    {
      "cell_type": "code",
      "metadata": {
        "id": "Lkiu7Wydv08c",
        "colab_type": "code",
        "colab": {}
      },
      "source": [
        "!git log"
      ],
      "execution_count": 0,
      "outputs": []
    },
    {
      "cell_type": "markdown",
      "metadata": {
        "id": "0IVkvubMv5ux",
        "colab_type": "text"
      },
      "source": [
        "Copyright 2019 CounterFactual.AI LLC. Licensed under the Apache License, Version 2.0 (the \"License\"); you may not use this file except in compliance with the License. You may obtain a copy of the License at http://www.apache.org/licenses/LICENSE-2.0 Unless required by applicable law or agreed to in writing, software distributed under the License is distributed on an \"AS IS\" BASIS, WITHOUT WARRANTIES OR CONDITIONS OF ANY KIND, either express or implied. See the License for the specific language governing permissions and limitations under the License"
      ]
    }
  ]
}