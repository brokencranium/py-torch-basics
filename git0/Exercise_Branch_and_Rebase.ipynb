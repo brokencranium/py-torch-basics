{
  "nbformat": 4,
  "nbformat_minor": 0,
  "metadata": {
    "kernelspec": {
      "display_name": "Python 3",
      "language": "python",
      "name": "python3"
    },
    "language_info": {
      "codemirror_mode": {
        "name": "ipython",
        "version": 3
      },
      "file_extension": ".py",
      "mimetype": "text/x-python",
      "name": "python",
      "nbconvert_exporter": "python",
      "pygments_lexer": "ipython3",
      "version": "3.7.3"
    },
    "colab": {
      "name": "Exercise - Branch and Rebase.ipynb",
      "provenance": [],
      "collapsed_sections": []
    }
  },
  "cells": [
    {
      "cell_type": "markdown",
      "metadata": {
        "id": "tPq8VB7ncQPG",
        "colab_type": "text"
      },
      "source": [
        "<h1>Branch and Rebase</h1>\n",
        "\n",
        "In this notebook you will start with a repository containing names of cities in various US states. Following the distinction between the develop and issue branches, the names for each state will be added to the `cities` file in a different commit. However, the order of the commits will not match the order in which the states joined United States. For example, New York joined the union before Texas, and Hawaii joined after Texas. You will use the `rebase` command in Git to reorder the commits to match the order in which the states became part of the United States.\n",
        "\n",
        "The following initializes the repo and creates the commits in an arbitrary order. Feel free to modify the cell to use your user name and email.\n"
      ]
    },
    {
      "cell_type": "code",
      "metadata": {
        "id": "Bm3WBoNnc0bz",
        "colab_type": "code",
        "colab": {}
      },
      "source": [
        "%%bash\n",
        "git init rebase_repo\n",
        "\n",
        "cd rebase_repo\n",
        "\n",
        "git config --global user.email \"peter@initech.com\"\n",
        "git config --global user.name \"Peter Gibbons\"\n",
        "\n",
        "git checkout -b develop\n",
        "echo \"This repo contains \n",
        "lists of cities for New York, Hawaii, and Texas\" > README\n",
        "git add README\n",
        "git commit -m 'initial commit'\n",
        "\n",
        "git branch hawaii\n",
        "git branch newyork\n",
        "git branch texas\n",
        "\n",
        "git checkout --force hawaii\n",
        "echo \"Honolulu\n",
        "Hilo\n",
        "Kailua\" >> cities\n",
        "git add cities\n",
        "git commit -am 'added hawaii'\n",
        "\n",
        "git checkout --force newyork\n",
        "echo \"New York\n",
        "Albany\n",
        "Buffalo\" >> cities\n",
        "git add cities\n",
        "git commit -am 'added new york'\n",
        "\n",
        "git checkout --force texas\n",
        "echo \"Austin\n",
        "Dallas\n",
        "Houston\" >> cities\n",
        "git add cities\n",
        "git commit -am 'added texas'"
      ],
      "execution_count": 0,
      "outputs": []
    },
    {
      "cell_type": "code",
      "metadata": {
        "id": "0W0DNom5fJp8",
        "colab_type": "code",
        "colab": {}
      },
      "source": [
        "%cd rebase_repo"
      ],
      "execution_count": 0,
      "outputs": []
    },
    {
      "cell_type": "markdown",
      "metadata": {
        "id": "9DLc1RPYxZv0",
        "colab_type": "text"
      },
      "source": [
        "Start by defining an usual alias for the `git log` command."
      ]
    },
    {
      "cell_type": "code",
      "metadata": {
        "id": "5iEmZ-1nc-jr",
        "colab_type": "code",
        "colab": {}
      },
      "source": [
        ""
      ],
      "execution_count": 0,
      "outputs": []
    },
    {
      "cell_type": "markdown",
      "metadata": {
        "id": "J0m-Ue15xhiW",
        "colab_type": "text"
      },
      "source": [
        "After you run the detailed `log`, your output should resemble the following:\n",
        "\n",
        "<pre>\n",
        "* b4e0... (hawaii) added hawaii\n",
        "| * b52c... (newyork) added new york\n",
        "|/  \n",
        "| * df45... (HEAD -> texas) added texas\n",
        "|/  \n",
        "* d3a8... (develop) initial commit\n",
        "</pre>"
      ]
    },
    {
      "cell_type": "code",
      "metadata": {
        "id": "_RzEukc0fHgB",
        "colab_type": "code",
        "colab": {}
      },
      "source": [
        ""
      ],
      "execution_count": 0,
      "outputs": []
    },
    {
      "cell_type": "markdown",
      "metadata": {
        "id": "uEbygR9iyVy7",
        "colab_type": "text"
      },
      "source": [
        "Since New York was the first to join the union, ensure that your `HEAD` points to the `newyork` branch before doing the rebase."
      ]
    },
    {
      "cell_type": "code",
      "metadata": {
        "id": "_fvXF4nEfSEh",
        "colab_type": "code",
        "colab": {}
      },
      "source": [
        ""
      ],
      "execution_count": 0,
      "outputs": []
    },
    {
      "cell_type": "markdown",
      "metadata": {
        "id": "VyuuBdeYyglU",
        "colab_type": "text"
      },
      "source": [
        "Use your detailed log to confirm the correct state of the `HEAD` reference."
      ]
    },
    {
      "cell_type": "code",
      "metadata": {
        "id": "N--uqCEogAJf",
        "colab_type": "code",
        "colab": {}
      },
      "source": [
        ""
      ],
      "execution_count": 0,
      "outputs": []
    },
    {
      "cell_type": "markdown",
      "metadata": {
        "id": "gzMZ58oMypgc",
        "colab_type": "text"
      },
      "source": [
        "You are ready to start with the `rebase`. Ensure that the commit for `newyork` is rebased back to the `develop` branch."
      ]
    },
    {
      "cell_type": "code",
      "metadata": {
        "id": "KN3sIwNUgBQl",
        "colab_type": "code",
        "colab": {}
      },
      "source": [
        ""
      ],
      "execution_count": 0,
      "outputs": []
    },
    {
      "cell_type": "markdown",
      "metadata": {
        "id": "X18U9Fywy11G",
        "colab_type": "text"
      },
      "source": [
        "Don't be surprised with the output of the rebase command. If there is a direct path from `develop` to `newyork` then there is nothing to rebase."
      ]
    },
    {
      "cell_type": "code",
      "metadata": {
        "id": "vw3NMVesphpT",
        "colab_type": "code",
        "colab": {}
      },
      "source": [
        ""
      ],
      "execution_count": 0,
      "outputs": []
    },
    {
      "cell_type": "markdown",
      "metadata": {
        "id": "rnsGGXgbzEa7",
        "colab_type": "text"
      },
      "source": [
        "Next, rebase `texas` on top of the `newyork` commit."
      ]
    },
    {
      "cell_type": "code",
      "metadata": {
        "id": "BaZC8gEEpzaq",
        "colab_type": "code",
        "colab": {}
      },
      "source": [
        ""
      ],
      "execution_count": 0,
      "outputs": []
    },
    {
      "cell_type": "code",
      "metadata": {
        "id": "aORx01RGgEv3",
        "colab_type": "code",
        "colab": {}
      },
      "source": [
        ""
      ],
      "execution_count": 0,
      "outputs": []
    },
    {
      "cell_type": "markdown",
      "metadata": {
        "id": "6WSX4vfCzN0Q",
        "colab_type": "text"
      },
      "source": [
        "This time the command results in a conflict. Review the conflicting file and resolve the issue."
      ]
    },
    {
      "cell_type": "code",
      "metadata": {
        "id": "68t2i4nBpp8s",
        "colab_type": "code",
        "colab": {}
      },
      "source": [
        ""
      ],
      "execution_count": 0,
      "outputs": []
    },
    {
      "cell_type": "code",
      "metadata": {
        "id": "nrUvRd0ZnrUt",
        "colab_type": "code",
        "colab": {}
      },
      "source": [
        "%%writefile cities\n",
        "New York\n",
        "Albany\n",
        "Buffalo\n",
        "Austin\n",
        "Dallas\n",
        "Houston"
      ],
      "execution_count": 0,
      "outputs": []
    },
    {
      "cell_type": "markdown",
      "metadata": {
        "id": "mzdD725EzaOi",
        "colab_type": "text"
      },
      "source": [
        "Remeber that once the `cities` file has the right content you need to re-stage it and `--continue` the rebase."
      ]
    },
    {
      "cell_type": "code",
      "metadata": {
        "id": "gXuDy9dynzuI",
        "colab_type": "code",
        "colab": {}
      },
      "source": [
        ""
      ],
      "execution_count": 0,
      "outputs": []
    },
    {
      "cell_type": "markdown",
      "metadata": {
        "id": "xatwe9CfzkDG",
        "colab_type": "text"
      },
      "source": [
        "Confirm that the rebase completed successfully using your `git log` alias."
      ]
    },
    {
      "cell_type": "code",
      "metadata": {
        "id": "3yrsyhNurdAS",
        "colab_type": "code",
        "colab": {}
      },
      "source": [
        ""
      ],
      "execution_count": 0,
      "outputs": []
    },
    {
      "cell_type": "markdown",
      "metadata": {
        "id": "uFvgt9ETzqAM",
        "colab_type": "text"
      },
      "source": [
        "Finally, complete the steps to rebase `hawaii`."
      ]
    },
    {
      "cell_type": "code",
      "metadata": {
        "id": "Gl3eSe96qCZy",
        "colab_type": "code",
        "colab": {}
      },
      "source": [
        ""
      ],
      "execution_count": 0,
      "outputs": []
    },
    {
      "cell_type": "code",
      "metadata": {
        "id": "WDkygv4UgHF-",
        "colab_type": "code",
        "colab": {}
      },
      "source": [
        ""
      ],
      "execution_count": 0,
      "outputs": []
    },
    {
      "cell_type": "code",
      "metadata": {
        "id": "lBkU3HNun4-L",
        "colab_type": "code",
        "colab": {}
      },
      "source": [
        ""
      ],
      "execution_count": 0,
      "outputs": []
    },
    {
      "cell_type": "code",
      "metadata": {
        "id": "Guw34PSCoO59",
        "colab_type": "code",
        "colab": {}
      },
      "source": [
        "%%writefile cities\n",
        "New York\n",
        "Albany\n",
        "Buffalo\n",
        "Austin\n",
        "Dallas\n",
        "Houston\n",
        "Honolulu\n",
        "Hilo\n",
        "Kailua"
      ],
      "execution_count": 0,
      "outputs": []
    },
    {
      "cell_type": "code",
      "metadata": {
        "id": "Nw-KryiAoUtK",
        "colab_type": "code",
        "colab": {}
      },
      "source": [
        ""
      ],
      "execution_count": 0,
      "outputs": []
    },
    {
      "cell_type": "code",
      "metadata": {
        "id": "MWKkTQdmoaam",
        "colab_type": "code",
        "colab": {}
      },
      "source": [
        ""
      ],
      "execution_count": 0,
      "outputs": []
    },
    {
      "cell_type": "markdown",
      "metadata": {
        "id": "XmU34YKuz2-q",
        "colab_type": "text"
      },
      "source": [
        "Once the rebase is done, check the detailed log."
      ]
    },
    {
      "cell_type": "code",
      "metadata": {
        "id": "rNCZiRrmgI_X",
        "colab_type": "code",
        "colab": {}
      },
      "source": [
        ""
      ],
      "execution_count": 0,
      "outputs": []
    },
    {
      "cell_type": "markdown",
      "metadata": {
        "id": "ZkMjiwDP0BAf",
        "colab_type": "text"
      },
      "source": [
        "Assuming the rebase completed as expected, the order of the commits in the log should resemble the following:\n",
        "\n",
        "<pre>\n",
        "* ebac... (HEAD -> hawaii) added hawaii\n",
        "* 0e46... (texas) added texas\n",
        "* b52c... (newyork) added new york\n",
        "* d3a8... (develop) initial commit\n",
        "</pre>"
      ]
    },
    {
      "cell_type": "markdown",
      "metadata": {
        "id": "HuOGeQWh0SX5",
        "colab_type": "text"
      },
      "source": [
        "Finally, checkout the `develop` branch and \"fast-forward\" it to the `hawaii` branch so that future commits to develop happen based on the `hawaii` commit."
      ]
    },
    {
      "cell_type": "code",
      "metadata": {
        "id": "EE-aeybFrtl7",
        "colab_type": "code",
        "colab": {}
      },
      "source": [
        ""
      ],
      "execution_count": 0,
      "outputs": []
    },
    {
      "cell_type": "code",
      "metadata": {
        "id": "ATEcCQKQgLnI",
        "colab_type": "code",
        "colab": {}
      },
      "source": [
        ""
      ],
      "execution_count": 0,
      "outputs": []
    },
    {
      "cell_type": "markdown",
      "metadata": {
        "id": "DpqLB-Vg0lLD",
        "colab_type": "text"
      },
      "source": [
        "At the conclusion of this exercise your log should resemble the following:\n",
        "\n",
        "<pre>\n",
        "* 538b... (HEAD -> develop, hawaii) added hawaii\n",
        "* f7b1... (texas) added texas\n",
        "* baca... (newyork) added new york\n",
        "* 28fe... initial commit\n",
        "</pre>"
      ]
    },
    {
      "cell_type": "code",
      "metadata": {
        "id": "Olk-cY4ko9jU",
        "colab_type": "code",
        "colab": {}
      },
      "source": [
        ""
      ],
      "execution_count": 0,
      "outputs": []
    },
    {
      "cell_type": "markdown",
      "metadata": {
        "id": "5LdvHUjp0wmk",
        "colab_type": "text"
      },
      "source": [
        "Copyright 2019 CounterFactual.AI LLC. Licensed under the Apache License, Version 2.0 (the \"License\"); you may not use this file except in compliance with the License. You may obtain a copy of the License at http://www.apache.org/licenses/LICENSE-2.0 Unless required by applicable law or agreed to in writing, software distributed under the License is distributed on an \"AS IS\" BASIS, WITHOUT WARRANTIES OR CONDITIONS OF ANY KIND, either express or implied. See the License for the specific language governing permissions and limitations under the License"
      ]
    }
  ]
}