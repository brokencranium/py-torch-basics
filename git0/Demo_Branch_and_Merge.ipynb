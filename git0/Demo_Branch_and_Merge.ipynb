{
  "nbformat": 4,
  "nbformat_minor": 0,
  "metadata": {
    "kernelspec": {
      "display_name": "Python 3",
      "language": "python",
      "name": "python3"
    },
    "language_info": {
      "codemirror_mode": {
        "name": "ipython",
        "version": 3
      },
      "file_extension": ".py",
      "mimetype": "text/x-python",
      "name": "python",
      "nbconvert_exporter": "python",
      "pygments_lexer": "ipython3",
      "version": "3.7.3"
    },
    "colab": {
      "name": "Demo - Branch and Merge.ipynb",
      "provenance": [],
      "collapsed_sections": []
    }
  },
  "cells": [
    {
      "cell_type": "markdown",
      "metadata": {
        "id": "tvc5a1n8FMYH",
        "colab_type": "text"
      },
      "source": [
        "<h1>Branch and Merge</h1>\n",
        "\n",
        "In this demonstration your will continue working with the example where the issue branches created by the business leader are maintained by the developers. After the issues are resolved, the issue branches are merged using Git into the `develop` branch."
      ]
    },
    {
      "cell_type": "markdown",
      "metadata": {
        "id": "49ozA_VsFtg1",
        "colab_type": "text"
      },
      "source": [
        "Bill kick things off by creating an initial version of the `shapes` file and then creating separate `develop` and issue-specific branches."
      ]
    },
    {
      "cell_type": "code",
      "metadata": {
        "id": "_be1Im-sFGBT",
        "colab_type": "code",
        "colab": {}
      },
      "source": [
        "%%bash\n",
        "git config --global user.email \"bill@initech.com\"\n",
        "git config --global user.name \"Bill Lumbergh\"\n",
        "git config --list\n",
        "\n",
        "git init branches_repo\n",
        "\n",
        "cd branches_repo\n",
        "\n",
        "echo \"Triangle\n",
        "Pentagon\n",
        "Square\" > shapes\n",
        "\n",
        "git add shapes\n",
        "git commit -m 'initial'\n",
        "git log"
      ],
      "execution_count": 0,
      "outputs": []
    },
    {
      "cell_type": "code",
      "metadata": {
        "id": "HiPlMYTzFGBe",
        "colab_type": "code",
        "colab": {}
      },
      "source": [
        "%cd branches_repo"
      ],
      "execution_count": 0,
      "outputs": []
    },
    {
      "cell_type": "code",
      "metadata": {
        "id": "9rxZW8QIFGBf",
        "colab_type": "code",
        "colab": {}
      },
      "source": [
        "!git branch"
      ],
      "execution_count": 0,
      "outputs": []
    },
    {
      "cell_type": "markdown",
      "metadata": {
        "id": "RofDkTJOGNAY",
        "colab_type": "text"
      },
      "source": [
        "Since Bill is still on the default `master` branch created by `git init`, he wants to create a separate develop branch to assign work to developers.\n",
        "\n",
        "Note that `checkout -b` is a shorthand for `git branch` followed by `git checkout`."
      ]
    },
    {
      "cell_type": "code",
      "metadata": {
        "id": "sg8-URbuFGBi",
        "colab_type": "code",
        "colab": {}
      },
      "source": [
        "!git checkout -b develop"
      ],
      "execution_count": 0,
      "outputs": []
    },
    {
      "cell_type": "code",
      "metadata": {
        "id": "7oyuz_7rFGBm",
        "colab_type": "code",
        "colab": {}
      },
      "source": [
        "%%writefile TODO\n",
        "(iss-101): Peter to add more 3d shapes \n",
        "(iss-102): Michael to add more curves"
      ],
      "execution_count": 0,
      "outputs": []
    },
    {
      "cell_type": "code",
      "metadata": {
        "id": "rYthfneGFGBo",
        "colab_type": "code",
        "colab": {}
      },
      "source": [
        "%%bash\n",
        "git add TODO\n",
        "git commit -m 'added TODOs for Michael and Peter'\n",
        "git branch iss-101 \n",
        "git branch iss-102"
      ],
      "execution_count": 0,
      "outputs": []
    },
    {
      "cell_type": "code",
      "metadata": {
        "id": "vb3o92BzFGBq",
        "colab_type": "code",
        "colab": {}
      },
      "source": [
        "!git branch"
      ],
      "execution_count": 0,
      "outputs": []
    },
    {
      "cell_type": "markdown",
      "metadata": {
        "id": "Igsx6tuxGnoM",
        "colab_type": "text"
      },
      "source": [
        "At this point, there is a `TODO` file on the `develop` branch along with the separate issue branches for Michael and Peter."
      ]
    },
    {
      "cell_type": "code",
      "metadata": {
        "id": "QmBhJv8HFGBs",
        "colab_type": "code",
        "colab": {}
      },
      "source": [
        "%%bash\n",
        "git config --global user.email \"michael@initech.com\"\n",
        "git config --global user.name \"Michael Bolton\"\n",
        "git config --list"
      ],
      "execution_count": 0,
      "outputs": []
    },
    {
      "cell_type": "markdown",
      "metadata": {
        "id": "yWrMMoFFGzQK",
        "colab_type": "text"
      },
      "source": [
        "For Michael to start working on his issue he needs to check out the issue-specific branch."
      ]
    },
    {
      "cell_type": "code",
      "metadata": {
        "id": "Vj53NNOkFGBv",
        "colab_type": "code",
        "colab": {}
      },
      "source": [
        "!git checkout iss-102"
      ],
      "execution_count": 0,
      "outputs": []
    },
    {
      "cell_type": "markdown",
      "metadata": {
        "id": "bh6ccXuLLu_U",
        "colab_type": "text"
      },
      "source": [
        "As you recall, switching to a different branch also changes the `HEAD` reference."
      ]
    },
    {
      "cell_type": "code",
      "metadata": {
        "id": "bVpHPIzdFGBx",
        "colab_type": "code",
        "colab": {}
      },
      "source": [
        "!cat .git/HEAD"
      ],
      "execution_count": 0,
      "outputs": []
    },
    {
      "cell_type": "markdown",
      "metadata": {
        "id": "x1fpF-ktL84-",
        "colab_type": "text"
      },
      "source": [
        "Michael reviews his TODO, updates the `shapes` file, and commits his work."
      ]
    },
    {
      "cell_type": "code",
      "metadata": {
        "id": "TrwyJ0XfFGB2",
        "colab_type": "code",
        "colab": {}
      },
      "source": [
        "!cat TODO"
      ],
      "execution_count": 0,
      "outputs": []
    },
    {
      "cell_type": "code",
      "metadata": {
        "id": "elNyhsEDFGB4",
        "colab_type": "code",
        "colab": {}
      },
      "source": [
        "%%bash\n",
        "echo \"Ellipse\" >> shapes\n",
        "cat shapes"
      ],
      "execution_count": 0,
      "outputs": []
    },
    {
      "cell_type": "code",
      "metadata": {
        "id": "Ll_blKKDFGB6",
        "colab_type": "code",
        "colab": {}
      },
      "source": [
        "!git status"
      ],
      "execution_count": 0,
      "outputs": []
    },
    {
      "cell_type": "code",
      "metadata": {
        "id": "e5xeHhOeFGB8",
        "colab_type": "code",
        "colab": {}
      },
      "source": [
        "!git add shapes"
      ],
      "execution_count": 0,
      "outputs": []
    },
    {
      "cell_type": "code",
      "metadata": {
        "id": "iGw3-5_dFGCC",
        "colab_type": "code",
        "colab": {}
      },
      "source": [
        "!git commit -m 'added ellipse, more after coffee'"
      ],
      "execution_count": 0,
      "outputs": []
    },
    {
      "cell_type": "markdown",
      "metadata": {
        "id": "3xMJKvprHN5X",
        "colab_type": "text"
      },
      "source": [
        "All right! At this point, Michael is done with adding his ellipse to the `shapes` file and Bill is interested in checking up on Michael's progress."
      ]
    },
    {
      "cell_type": "code",
      "metadata": {
        "id": "34DSAmhrFGCG",
        "colab_type": "code",
        "colab": {}
      },
      "source": [
        "%%bash\n",
        "git config --global user.email \"bill@initech.com\"\n",
        "git config --global user.name \"Bill Lumbergh\""
      ],
      "execution_count": 0,
      "outputs": []
    },
    {
      "cell_type": "markdown",
      "metadata": {
        "id": "xwW3R1x3Hc0s",
        "colab_type": "text"
      },
      "source": [
        "Since `diff` can use either commit hashes or branch names it is straightforward to compare the develop branch to an issue branch."
      ]
    },
    {
      "cell_type": "code",
      "metadata": {
        "id": "WrpOZZeZFGCI",
        "colab_type": "code",
        "colab": {}
      },
      "source": [
        "!git diff develop iss-102"
      ],
      "execution_count": 0,
      "outputs": []
    },
    {
      "cell_type": "markdown",
      "metadata": {
        "id": "bhZngofRHm9N",
        "colab_type": "text"
      },
      "source": [
        "At Bill's organization, the `master` branch is used to exchange source code with the developers on the external teams. So Bill uses it to provide a README file to help external developers adopt his team's code."
      ]
    },
    {
      "cell_type": "code",
      "metadata": {
        "id": "MDOKOMHQFGCK",
        "colab_type": "code",
        "colab": {}
      },
      "source": [
        "!git checkout master"
      ],
      "execution_count": 0,
      "outputs": []
    },
    {
      "cell_type": "code",
      "metadata": {
        "id": "U34uFTtsFGCM",
        "colab_type": "code",
        "colab": {}
      },
      "source": [
        "%%writefile README\n",
        "The shapes file is just great, it has curvy 2d shapes"
      ],
      "execution_count": 0,
      "outputs": []
    },
    {
      "cell_type": "code",
      "metadata": {
        "id": "EZRB-fRsFGCO",
        "colab_type": "code",
        "colab": {}
      },
      "source": [
        "%%bash\n",
        "git add README\n",
        "git commit -m 'added README doc file'"
      ],
      "execution_count": 0,
      "outputs": []
    },
    {
      "cell_type": "markdown",
      "metadata": {
        "id": "RFSZpIbPIAIn",
        "colab_type": "text"
      },
      "source": [
        "While Bill is updating the documentation, Peter got to working on his issue."
      ]
    },
    {
      "cell_type": "code",
      "metadata": {
        "id": "ev24jmWnFGCQ",
        "colab_type": "code",
        "colab": {}
      },
      "source": [
        "%%bash\n",
        "git config --global user.email \"peter@initech.com\"\n",
        "git config --global user.name \"Peter Gibbons\""
      ],
      "execution_count": 0,
      "outputs": []
    },
    {
      "cell_type": "code",
      "metadata": {
        "id": "n2LGcDZYFGCS",
        "colab_type": "code",
        "colab": {}
      },
      "source": [
        "!git checkout iss-101"
      ],
      "execution_count": 0,
      "outputs": []
    },
    {
      "cell_type": "code",
      "metadata": {
        "id": "6KFdH8NbFGCU",
        "colab_type": "code",
        "colab": {}
      },
      "source": [
        "!git branch"
      ],
      "execution_count": 0,
      "outputs": []
    },
    {
      "cell_type": "markdown",
      "metadata": {
        "id": "mXGW1PntJAWY",
        "colab_type": "text"
      },
      "source": [
        "Before doing too much work on the files, Peter wants to see what else was checked in to the repo that he should know about. "
      ]
    },
    {
      "cell_type": "code",
      "metadata": {
        "id": "T2g99C1rFGCW",
        "colab_type": "code",
        "colab": {}
      },
      "source": [
        "!git log --oneline --graph --decorate --all"
      ],
      "execution_count": 0,
      "outputs": []
    },
    {
      "cell_type": "code",
      "metadata": {
        "id": "oTUghnK2JSoJ",
        "colab_type": "code",
        "colab": {}
      },
      "source": [
        "!git diff master"
      ],
      "execution_count": 0,
      "outputs": []
    },
    {
      "cell_type": "markdown",
      "metadata": {
        "id": "2vxWqvmgMiJe",
        "colab_type": "text"
      },
      "source": [
        "The `diff` is based on Git traversing the trees of two commits and reporting the differences in the BLOBS of the trees. Notice that in the output the diff reports that both `README` and `TODO` have changed. The `/dev/null` appears in the output when a file is added, i.e. the predecessor for the file did not exist.\n",
        "\n",
        "Within each BLOB, the diff details consist of \"hunks\" marked with `@@` characters. The hunks are effectively chunks of changes across commits. "
      ]
    },
    {
      "cell_type": "code",
      "metadata": {
        "id": "tf8hzMP7FGCe",
        "colab_type": "code",
        "colab": {}
      },
      "source": [
        "!git merge master -m 'pull latest doc'"
      ],
      "execution_count": 0,
      "outputs": []
    },
    {
      "cell_type": "markdown",
      "metadata": {
        "id": "LG32JYlRU2XF",
        "colab_type": "text"
      },
      "source": [
        "Once the `master` branch changes are merged into this branch, let's examine the files in the local working tree and make changes according to the issue."
      ]
    },
    {
      "cell_type": "code",
      "metadata": {
        "id": "UZ7qkf33FGCg",
        "colab_type": "code",
        "colab": {}
      },
      "source": [
        "!ls"
      ],
      "execution_count": 0,
      "outputs": []
    },
    {
      "cell_type": "code",
      "metadata": {
        "id": "IcbCizZ-FGCi",
        "colab_type": "code",
        "colab": {}
      },
      "source": [
        "!cat shapes"
      ],
      "execution_count": 0,
      "outputs": []
    },
    {
      "cell_type": "code",
      "metadata": {
        "id": "cCLd1Cy8FGCk",
        "colab_type": "code",
        "colab": {}
      },
      "source": [
        "!cat README"
      ],
      "execution_count": 0,
      "outputs": []
    },
    {
      "cell_type": "code",
      "metadata": {
        "id": "L_KnCzQSFGCm",
        "colab_type": "code",
        "colab": {}
      },
      "source": [
        "%%bash\n",
        "echo \"Cube\n",
        "Sphere\" >> shapes\n",
        "git add shapes\n",
        "git commit -m 'added a cube and a sphere'"
      ],
      "execution_count": 0,
      "outputs": []
    },
    {
      "cell_type": "markdown",
      "metadata": {
        "id": "Y5YFxGdcVKYk",
        "colab_type": "text"
      },
      "source": [
        "Now Peter can start working on merging the changes from resolved issues into the `develop` branch.\n",
        "\n",
        "After switching to `develop`, it is important to understand the structure of the commits."
      ]
    },
    {
      "cell_type": "code",
      "metadata": {
        "id": "hnmoenb1FGCr",
        "colab_type": "code",
        "colab": {}
      },
      "source": [
        "!git checkout develop"
      ],
      "execution_count": 0,
      "outputs": []
    },
    {
      "cell_type": "code",
      "metadata": {
        "id": "t7WScEr6FGCp",
        "colab_type": "code",
        "colab": {}
      },
      "source": [
        "!git log --oneline --graph --decorate --all"
      ],
      "execution_count": 0,
      "outputs": []
    },
    {
      "cell_type": "markdown",
      "metadata": {
        "id": "iVczET5-V0Cs",
        "colab_type": "text"
      },
      "source": [
        "First, let's merge Peter's commits."
      ]
    },
    {
      "cell_type": "code",
      "metadata": {
        "id": "onp3J4CqFGCy",
        "colab_type": "code",
        "colab": {}
      },
      "source": [
        "!git merge iss-101"
      ],
      "execution_count": 0,
      "outputs": []
    },
    {
      "cell_type": "markdown",
      "metadata": {
        "id": "lpXKitP_V36K",
        "colab_type": "text"
      },
      "source": [
        "Notice that merging Peter's issue did not require a recursive merge, hence the merge simply \"fast-forwarded\". For clarity, you can specify a `--no-ff` with your merge command to ensure that every merge results in a new commit."
      ]
    },
    {
      "cell_type": "code",
      "metadata": {
        "id": "qTkQSzidFGC0",
        "colab_type": "code",
        "colab": {}
      },
      "source": [
        "!git merge iss-102"
      ],
      "execution_count": 0,
      "outputs": []
    },
    {
      "cell_type": "markdown",
      "metadata": {
        "id": "kmf2dUF7WWyD",
        "colab_type": "text"
      },
      "source": [
        "As expected, merging Michael's changes resulted in a merge conflict. Let's examine the files to understand the conflict better."
      ]
    },
    {
      "cell_type": "code",
      "metadata": {
        "id": "LcNEypN0FGC2",
        "colab_type": "code",
        "colab": {}
      },
      "source": [
        "!cat shapes"
      ],
      "execution_count": 0,
      "outputs": []
    },
    {
      "cell_type": "markdown",
      "metadata": {
        "id": "6nkMpAvMWgDc",
        "colab_type": "text"
      },
      "source": [
        "This is not too bad! Just need to use the lines from both files in the merged commit."
      ]
    },
    {
      "cell_type": "code",
      "metadata": {
        "id": "QjDwJzwbFGC5",
        "colab_type": "code",
        "colab": {}
      },
      "source": [
        "%%writefile shapes\n",
        "Triangle\n",
        "Pentagon\n",
        "Square\n",
        "Ellipse\n",
        "Cube\n",
        "Sphere"
      ],
      "execution_count": 0,
      "outputs": []
    },
    {
      "cell_type": "markdown",
      "metadata": {
        "id": "Wg2j2LkSWn3a",
        "colab_type": "text"
      },
      "source": [
        "Let's go ahead and stage the changes to resolve the merge and then commit."
      ]
    },
    {
      "cell_type": "code",
      "metadata": {
        "id": "IjZMr2szFGC9",
        "colab_type": "code",
        "colab": {}
      },
      "source": [
        "!git add shapes"
      ],
      "execution_count": 0,
      "outputs": []
    },
    {
      "cell_type": "code",
      "metadata": {
        "id": "p4MEfAf9FGDA",
        "colab_type": "code",
        "colab": {}
      },
      "source": [
        "!git commit -m 'resolved merge'"
      ],
      "execution_count": 0,
      "outputs": []
    },
    {
      "cell_type": "code",
      "metadata": {
        "id": "lGDJDHOYFGDC",
        "colab_type": "code",
        "colab": {}
      },
      "source": [
        "!git log --all --decorate --graph --oneline"
      ],
      "execution_count": 0,
      "outputs": []
    },
    {
      "cell_type": "markdown",
      "metadata": {
        "id": "FrP30OeFXOfX",
        "colab_type": "text"
      },
      "source": [
        "Copyright 2019 CounterFactual.AI LLC. Licensed under the Apache License, Version 2.0 (the \"License\"); you may not use this file except in compliance with the License. You may obtain a copy of the License at http://www.apache.org/licenses/LICENSE-2.0 Unless required by applicable law or agreed to in writing, software distributed under the License is distributed on an \"AS IS\" BASIS, WITHOUT WARRANTIES OR CONDITIONS OF ANY KIND, either express or implied. See the License for the specific language governing permissions and limitations under the License"
      ]
    }
  ]
}